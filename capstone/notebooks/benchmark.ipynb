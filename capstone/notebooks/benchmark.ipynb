{
 "cells": [
  {
   "cell_type": "markdown",
   "metadata": {
    "_uuid": "749cb0b7d343d12569698ece840039c7fef54711",
    "colab_type": "text",
    "id": "BUSd8dmWEUf4"
   },
   "source": [
    "# Benchmark model\n",
    "\n",
    "Credit: https://www.kaggle.com/yekenot/2dcnn-textclassifier\n",
    "\n",
    "This is a benchmark model that uses a 2D CNN model "
   ]
  },
  {
   "cell_type": "code",
   "execution_count": 1,
   "metadata": {
    "_cell_guid": "b1076dfc-b9ad-4769-8c92-a6c4dae69d19",
    "_uuid": "8f2839f25d086af736a60e9eeb907d3b93b6e0e5"
   },
   "outputs": [
    {
     "name": "stderr",
     "output_type": "stream",
     "text": [
      "Using TensorFlow backend.\n"
     ]
    }
   ],
   "source": [
    "import numpy as np\n",
    "np.random.seed(42)\n",
    "import pandas as pd\n",
    "from sklearn.model_selection import train_test_split\n",
    "from sklearn.metrics import f1_score\n",
    "from keras.models import Model\n",
    "from keras.layers import Input, Embedding, Dense, Conv2D, MaxPool2D\n",
    "from keras.layers import Reshape, Flatten, Concatenate, Dropout, SpatialDropout1D\n",
    "from keras.preprocessing import text, sequence\n",
    "from keras.callbacks import Callback\n",
    "import warnings\n",
    "warnings.filterwarnings('ignore')"
   ]
  },
  {
   "cell_type": "code",
   "execution_count": 2,
   "metadata": {
    "_uuid": "b60b0950ddf9fce1c088bf2f89d07ce04c3a82e1"
   },
   "outputs": [],
   "source": [
    "EMBEDDING_FILE = '../input/embeddings/glove.840B.300d/glove.840B.300d.txt'\n",
    "train = pd.read_csv('../input/train.csv')\n",
    "test = pd.read_csv('../input/test.csv')\n",
    "submission = pd.read_csv('../input/sample_submission.csv')"
   ]
  },
  {
   "cell_type": "code",
   "execution_count": 3,
   "metadata": {
    "_uuid": "784c915cb895f5c7586d4dd61d99d70a3c9a5651"
   },
   "outputs": [],
   "source": [
    "X_train = train[\"question_text\"].fillna(\"fillna\").values\n",
    "y_train = train[\"target\"].values\n",
    "X_test = test[\"question_text\"].fillna(\"fillna\").values\n",
    "\n",
    "max_features = 40000\n",
    "maxlen = 70\n",
    "embed_size = 300\n",
    "\n",
    "#threshold = 0.35\n",
    "\n",
    "tokenizer = text.Tokenizer(num_words=max_features)\n",
    "tokenizer.fit_on_texts(list(X_train) + list(X_test))\n",
    "X_train = tokenizer.texts_to_sequences(X_train)\n",
    "X_test = tokenizer.texts_to_sequences(X_test)\n",
    "x_train = sequence.pad_sequences(X_train, maxlen=maxlen)\n",
    "x_test = sequence.pad_sequences(X_test, maxlen=maxlen)"
   ]
  },
  {
   "cell_type": "code",
   "execution_count": 4,
   "metadata": {
    "_uuid": "f2ee3631454ab235e7951a2313f11100bf7b7d97"
   },
   "outputs": [],
   "source": [
    "def get_coefs(word, *arr): return word, np.asarray(arr, dtype='float32')\n",
    "embeddings_index = dict(get_coefs(*o.rstrip().rsplit(' ')) for o in open(EMBEDDING_FILE))\n",
    "\n",
    "word_index = tokenizer.word_index\n",
    "nb_words = min(max_features, len(word_index))\n",
    "embedding_matrix = np.zeros((nb_words, embed_size))\n",
    "for word, i in word_index.items():\n",
    "    if i >= max_features: continue\n",
    "    embedding_vector = embeddings_index.get(word)\n",
    "    if embedding_vector is not None: embedding_matrix[i] = embedding_vector"
   ]
  },
  {
   "cell_type": "code",
   "execution_count": 6,
   "metadata": {},
   "outputs": [],
   "source": [
    "from keras import backend as K\n",
    "\n",
    "\n",
    "def recall(y_true, y_pred):\n",
    "    true_positives = K.sum(K.round(K.clip(y_true * y_pred, 0, 1)))\n",
    "    possible_positives = K.sum(K.round(K.clip(y_true, 0, 1)))\n",
    "    recall = true_positives / (possible_positives + K.epsilon())\n",
    "    return recall\n",
    "\n",
    "def precision(y_true, y_pred):\n",
    "    true_positives = K.sum(K.round(K.clip(y_true * y_pred, 0, 1)))\n",
    "    predicted_positives = K.sum(K.round(K.clip(y_pred, 0, 1)))\n",
    "    precision = true_positives / (predicted_positives + K.epsilon())\n",
    "    return precision\n",
    " \n",
    "def f1(y_true, y_pred):\n",
    "    p = precision(y_true, y_pred)\n",
    "    r = recall(y_true, y_pred)\n",
    "    return 2*((p*r)/(p+r+K.epsilon()))"
   ]
  },
  {
   "cell_type": "code",
   "execution_count": 7,
   "metadata": {
    "_uuid": "7a3fed14c968b22e18f6c6c855ab9c23b9f0cce3"
   },
   "outputs": [],
   "source": [
    "filter_sizes = [1,2,3,5]\n",
    "num_filters = 42\n",
    "\n",
    "def get_model():    \n",
    "    inp = Input(shape=(maxlen, ))\n",
    "    x = Embedding(max_features, embed_size, weights=[embedding_matrix])(inp)\n",
    "#    x = SpatialDropout1D(0.4)(x)\n",
    "    x = Reshape((maxlen, embed_size, 1))(x)\n",
    "    \n",
    "    conv_0 = Conv2D(num_filters, kernel_size=(filter_sizes[0], embed_size),\n",
    "                                 kernel_initializer='he_normal', activation='tanh')(x)\n",
    "    conv_1 = Conv2D(num_filters, kernel_size=(filter_sizes[1], embed_size),\n",
    "                                 kernel_initializer='he_normal', activation='tanh')(x)\n",
    "    conv_2 = Conv2D(num_filters, kernel_size=(filter_sizes[2], embed_size), \n",
    "                                 kernel_initializer='he_normal', activation='tanh')(x)\n",
    "    conv_3 = Conv2D(num_filters, kernel_size=(filter_sizes[3], embed_size),\n",
    "                                 kernel_initializer='he_normal', activation='tanh')(x)\n",
    "    \n",
    "    maxpool_0 = MaxPool2D(pool_size=(maxlen - filter_sizes[0] + 1, 1))(conv_0)\n",
    "    maxpool_1 = MaxPool2D(pool_size=(maxlen - filter_sizes[1] + 1, 1))(conv_1)\n",
    "    maxpool_2 = MaxPool2D(pool_size=(maxlen - filter_sizes[2] + 1, 1))(conv_2)\n",
    "    maxpool_3 = MaxPool2D(pool_size=(maxlen - filter_sizes[3] + 1, 1))(conv_3)\n",
    "        \n",
    "    z = Concatenate(axis=1)([maxpool_0, maxpool_1, maxpool_2, maxpool_3])   \n",
    "    z = Flatten()(z)\n",
    "    z = Dropout(0.1)(z)\n",
    "        \n",
    "    outp = Dense(1, activation=\"sigmoid\")(z)\n",
    "    \n",
    "    model = Model(inputs=inp, outputs=outp)\n",
    "    model.compile(loss='binary_crossentropy',\n",
    "                  optimizer='adam',\n",
    "                  metrics=['accuracy', f1, recall, precision])\n",
    "\n",
    "    return model\n",
    "\n",
    "model = get_model()"
   ]
  },
  {
   "cell_type": "code",
   "execution_count": 9,
   "metadata": {
    "_uuid": "51deacab40f77c038525faf1cfd2c8e820f7f01b"
   },
   "outputs": [
    {
     "name": "stdout",
     "output_type": "stream",
     "text": [
      "Train on 1240815 samples, validate on 65307 samples\n",
      "Epoch 1/2\n",
      " - 61s - loss: 0.1096 - acc: 0.9565 - f1: 0.5849 - recall: 0.5228 - precision: 0.6972 - val_loss: 0.1018 - val_acc: 0.9602 - val_f1: 0.6265 - val_recall: 0.5647 - val_precision: 0.7269\n",
      "Epoch 2/2\n",
      " - 55s - loss: 0.0925 - acc: 0.9629 - f1: 0.6651 - recall: 0.6187 - precision: 0.7427 - val_loss: 0.1009 - val_acc: 0.9599 - val_f1: 0.6291 - val_recall: 0.5731 - val_precision: 0.7188\n"
     ]
    }
   ],
   "source": [
    "batch_size = 256\n",
    "epochs = 2\n",
    "\n",
    "X_tra, X_val, y_tra, y_val = train_test_split(x_train, y_train, train_size=0.95,\n",
    "                                              random_state=233)\n",
    "\n",
    "hist = model.fit(X_tra, y_tra, batch_size=batch_size, epochs=epochs,\n",
    "                 validation_data=(X_val, y_val), verbose=2)"
   ]
  },
  {
   "cell_type": "markdown",
   "metadata": {
    "_uuid": "926710a7b8364a65a6ea5bdb8f103462b622549c",
    "colab_type": "text",
    "id": "NVFKqCPUtJcy"
   },
   "source": [
    "# Predict validation labels"
   ]
  },
  {
   "cell_type": "code",
   "execution_count": 10,
   "metadata": {
    "_uuid": "80dbd1aae9b5ec74071b7a11de96abee7cd2ad66"
   },
   "outputs": [
    {
     "name": "stdout",
     "output_type": "stream",
     "text": [
      "65307/65307 [==============================] - 1s 10us/step\n",
      "CPU times: user 384 ms, sys: 64 ms, total: 448 ms\n",
      "Wall time: 688 ms\n"
     ]
    }
   ],
   "source": [
    "%%time\n",
    "\n",
    "pred_val = model.predict([X_val], batch_size=1024, verbose=1)"
   ]
  },
  {
   "cell_type": "markdown",
   "metadata": {
    "_uuid": "fbe1a9626a625a4540b35fe646af0d78e8952b24",
    "colab_type": "text",
    "id": "NVFKqCPUtJcy"
   },
   "source": [
    "# Find optimal threshold"
   ]
  },
  {
   "cell_type": "code",
   "execution_count": 11,
   "metadata": {
    "_uuid": "c5861eb15765c20d4a5be5892543520bdb006bfa"
   },
   "outputs": [
    {
     "name": "stdout",
     "output_type": "stream",
     "text": [
      "Current threshold is 0.1000 with F1 score: 0.6057, Recall score: 0.8752, Precision score: 0.4631\n",
      "Current threshold is 0.1100 with F1 score: 0.6147, Recall score: 0.8663, Precision score: 0.4763\n",
      "Current threshold is 0.1200 with F1 score: 0.6225, Recall score: 0.8593, Precision score: 0.4880\n",
      "Current threshold is 0.1300 with F1 score: 0.6303, Recall score: 0.8534, Precision score: 0.4996\n",
      "Current threshold is 0.1400 with F1 score: 0.6375, Recall score: 0.8457, Precision score: 0.5116\n",
      "Current threshold is 0.1500 with F1 score: 0.6422, Recall score: 0.8380, Precision score: 0.5205\n",
      "Current threshold is 0.1600 with F1 score: 0.6484, Recall score: 0.8318, Precision score: 0.5313\n",
      "Current threshold is 0.1700 with F1 score: 0.6520, Recall score: 0.8226, Precision score: 0.5400\n",
      "Current threshold is 0.1800 with F1 score: 0.6552, Recall score: 0.8141, Precision score: 0.5482\n",
      "Current threshold is 0.1900 with F1 score: 0.6587, Recall score: 0.8079, Precision score: 0.5560\n",
      "Current threshold is 0.2000 with F1 score: 0.6619, Recall score: 0.7995, Precision score: 0.5648\n",
      "Current threshold is 0.2100 with F1 score: 0.6634, Recall score: 0.7915, Precision score: 0.5710\n",
      "Current threshold is 0.2200 with F1 score: 0.6641, Recall score: 0.7821, Precision score: 0.5771\n",
      "Current threshold is 0.2300 with F1 score: 0.6665, Recall score: 0.7744, Precision score: 0.5851\n",
      "Current threshold is 0.2400 with F1 score: 0.6677, Recall score: 0.7669, Precision score: 0.5912\n",
      "Current threshold is 0.2500 with F1 score: 0.6704, Recall score: 0.7607, Precision score: 0.5993\n",
      "Current threshold is 0.2600 with F1 score: 0.6714, Recall score: 0.7515, Precision score: 0.6067\n",
      "Current threshold is 0.2700 with F1 score: 0.6730, Recall score: 0.7443, Precision score: 0.6141\n",
      "Current threshold is 0.2800 with F1 score: 0.6738, Recall score: 0.7393, Precision score: 0.6189\n",
      "Current threshold is 0.2900 with F1 score: 0.6759, Recall score: 0.7333, Precision score: 0.6268\n",
      "Current threshold is 0.3000 with F1 score: 0.6755, Recall score: 0.7256, Precision score: 0.6318\n",
      "Current threshold is 0.3100 with F1 score: 0.6766, Recall score: 0.7197, Precision score: 0.6384\n",
      "Current threshold is 0.3200 with F1 score: 0.6760, Recall score: 0.7115, Precision score: 0.6438\n",
      "Current threshold is 0.3300 with F1 score: 0.6748, Recall score: 0.7038, Precision score: 0.6482\n",
      "Current threshold is 0.3400 with F1 score: 0.6743, Recall score: 0.6966, Precision score: 0.6534\n",
      "Current threshold is 0.3500 with F1 score: 0.6757, Recall score: 0.6909, Precision score: 0.6611\n",
      "Current threshold is 0.3600 with F1 score: 0.6735, Recall score: 0.6829, Precision score: 0.6644\n",
      "Current threshold is 0.3700 with F1 score: 0.6704, Recall score: 0.6725, Precision score: 0.6683\n",
      "Current threshold is 0.3800 with F1 score: 0.6706, Recall score: 0.6665, Precision score: 0.6747\n",
      "Current threshold is 0.3900 with F1 score: 0.6686, Recall score: 0.6590, Precision score: 0.6784\n",
      "Current threshold is 0.4000 with F1 score: 0.6677, Recall score: 0.6526, Precision score: 0.6835\n",
      "Current threshold is 0.4100 with F1 score: 0.6676, Recall score: 0.6466, Precision score: 0.6900\n",
      "Current threshold is 0.4200 with F1 score: 0.6675, Recall score: 0.6414, Precision score: 0.6959\n",
      "Current threshold is 0.4300 with F1 score: 0.6638, Recall score: 0.6334, Precision score: 0.6972\n",
      "Current threshold is 0.4400 with F1 score: 0.6600, Recall score: 0.6245, Precision score: 0.6998\n",
      "Current threshold is 0.4500 with F1 score: 0.6570, Recall score: 0.6158, Precision score: 0.7042\n",
      "Current threshold is 0.4600 with F1 score: 0.6535, Recall score: 0.6083, Precision score: 0.7059\n",
      "Current threshold is 0.4700 with F1 score: 0.6501, Recall score: 0.5999, Precision score: 0.7094\n",
      "Current threshold is 0.4800 with F1 score: 0.6467, Recall score: 0.5919, Precision score: 0.7125\n",
      "Current threshold is 0.4900 with F1 score: 0.6430, Recall score: 0.5823, Precision score: 0.7178\n",
      "Current threshold is 0.5000 with F1 score: 0.6373, Recall score: 0.5723, Precision score: 0.7190\n",
      "optimal threshold is 0.3100 with F1 score: 0.6766\n"
     ]
    }
   ],
   "source": [
    "from sklearn.metrics import f1_score, precision_score, recall_score\n",
    "\n",
    "def optimalThreshold(y_true,y_pred):\n",
    "    idx = 0\n",
    "    cur_f1 = 0\n",
    "    cur_prec = 0\n",
    "    cur_recall = 0\n",
    "    max_f1 = 0\n",
    "    thres = 0\n",
    "    for idx in np.arange(0.1, 0.501, 0.01):\n",
    "        cur_f1 = f1_score(y_true, np.array(y_pred)> idx)\n",
    "        cur_recall = recall_score(y_true, np.array(y_pred)> idx)\n",
    "        cur_prec = precision_score(y_true, np.array(y_pred)> idx)\n",
    "        print('Current threshold is {:.4f} with F1 score: {:.4f}, Recall score: {:.4f}, Precision score: {:.4f}'\n",
    "              .format(idx, cur_f1, cur_recall, cur_prec)\n",
    "             )\n",
    "        if cur_f1 > max_f1:\n",
    "            max_f1 = cur_f1\n",
    "            thres = idx\n",
    "    print('optimal threshold is {:.4f} with F1 score: {:.4f}'.format(thres, max_f1))\n",
    "    return thres\n",
    "threshold = optimalThreshold(y_val,pred_val)"
   ]
  }
 ],
 "metadata": {
  "kernelspec": {
   "display_name": "Python 3",
   "language": "python",
   "name": "python3"
  },
  "language_info": {
   "codemirror_mode": {
    "name": "ipython",
    "version": 3
   },
   "file_extension": ".py",
   "mimetype": "text/x-python",
   "name": "python",
   "nbconvert_exporter": "python",
   "pygments_lexer": "ipython3",
   "version": "3.5.3"
  }
 },
 "nbformat": 4,
 "nbformat_minor": 2
}
