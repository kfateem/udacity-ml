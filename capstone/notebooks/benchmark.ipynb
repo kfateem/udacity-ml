{
 "cells": [
  {
   "cell_type": "markdown",
   "metadata": {
    "_uuid": "749cb0b7d343d12569698ece840039c7fef54711",
    "colab_type": "text",
    "id": "BUSd8dmWEUf4"
   },
   "source": [
    "# Benchmark model\n",
    "\n",
    "Credit: https://www.kaggle.com/yekenot/2dcnn-textclassifier\n",
    "\n",
    "This is a benchmark model that uses a 2D CNN model with a pretrained glove.840B.300d word embedding layer.\n",
    "The validation F1-score is 0.6744 at a threshold of 0.3."
   ]
  },
  {
   "cell_type": "markdown",
   "metadata": {
    "_uuid": "85c12f788178232533cbf7f141e217c32b882cda",
    "colab_type": "text",
    "id": "w7oagxHHofxb"
   },
   "source": [
    "# Constants"
   ]
  },
  {
   "cell_type": "code",
   "execution_count": 1,
   "metadata": {
    "_uuid": "f0421d98769ce1b3bcc0b65f729851be0d275cb5"
   },
   "outputs": [],
   "source": [
    "MODEL_VERSION = 'benchmark'\n",
    "MAX_SEQUENCE_LENGTH = 70\n",
    "EMBEDDING_DIM = 300\n",
    "MAX_WORDS = 40000"
   ]
  },
  {
   "cell_type": "code",
   "execution_count": 2,
   "metadata": {
    "_cell_guid": "b1076dfc-b9ad-4769-8c92-a6c4dae69d19",
    "_uuid": "8f2839f25d086af736a60e9eeb907d3b93b6e0e5"
   },
   "outputs": [
    {
     "name": "stderr",
     "output_type": "stream",
     "text": [
      "Using TensorFlow backend.\n"
     ]
    }
   ],
   "source": [
    "import numpy as np\n",
    "np.random.seed(42)\n",
    "import pandas as pd\n",
    "from sklearn.model_selection import train_test_split\n",
    "from sklearn.metrics import f1_score\n",
    "from keras.models import Model\n",
    "from keras.layers import Input, Embedding, Dense, Conv2D, MaxPool2D\n",
    "from keras.layers import Reshape, Flatten, Concatenate, Dropout, SpatialDropout1D\n",
    "from keras.preprocessing import text, sequence\n",
    "from keras.callbacks import Callback\n",
    "import warnings\n",
    "warnings.filterwarnings('ignore')"
   ]
  },
  {
   "cell_type": "code",
   "execution_count": 3,
   "metadata": {
    "_uuid": "b60b0950ddf9fce1c088bf2f89d07ce04c3a82e1"
   },
   "outputs": [],
   "source": [
    "EMBEDDING_FILE = '../input/embeddings/glove.840B.300d/glove.840B.300d.txt'\n",
    "train = pd.read_csv('../input/train.csv')\n",
    "test = pd.read_csv('../input/test.csv')\n",
    "submission = pd.read_csv('../input/sample_submission.csv')"
   ]
  },
  {
   "cell_type": "code",
   "execution_count": 4,
   "metadata": {
    "_uuid": "784c915cb895f5c7586d4dd61d99d70a3c9a5651"
   },
   "outputs": [],
   "source": [
    "X_train = train[\"question_text\"].fillna(\"fillna\").values\n",
    "y_train = train[\"target\"].values\n",
    "X_test = test[\"question_text\"].fillna(\"fillna\").values\n",
    "\n",
    "tokenizer = text.Tokenizer(num_words=MAX_WORDS)\n",
    "tokenizer.fit_on_texts(list(X_train) + list(X_test))\n",
    "X_train = tokenizer.texts_to_sequences(X_train)\n",
    "X_test = tokenizer.texts_to_sequences(X_test)\n",
    "x_train = sequence.pad_sequences(X_train, maxlen=MAX_SEQUENCE_LENGTH)\n",
    "x_test = sequence.pad_sequences(X_test, maxlen=MAX_SEQUENCE_LENGTH)"
   ]
  },
  {
   "cell_type": "code",
   "execution_count": 5,
   "metadata": {
    "_uuid": "f2ee3631454ab235e7951a2313f11100bf7b7d97"
   },
   "outputs": [],
   "source": [
    "def get_coefs(word, *arr): return word, np.asarray(arr, dtype='float32')\n",
    "embeddings_index = dict(get_coefs(*o.rstrip().rsplit(' ')) for o in open(EMBEDDING_FILE))\n",
    "\n",
    "word_index = tokenizer.word_index\n",
    "nb_words = min(max_features, len(word_index))\n",
    "embedding_matrix = np.zeros((nb_words, EMBEDDING_DIM))\n",
    "for word, i in word_index.items():\n",
    "    if i >= MAX_WORDS: continue\n",
    "    embedding_vector = embeddings_index.get(word)\n",
    "    if embedding_vector is not None: embedding_matrix[i] = embedding_vector"
   ]
  },
  {
   "cell_type": "code",
   "execution_count": 6,
   "metadata": {},
   "outputs": [],
   "source": [
    "from keras import backend as K\n",
    "\n",
    "\n",
    "def recall(y_true, y_pred):\n",
    "    true_positives = K.sum(K.round(K.clip(y_true * y_pred, 0, 1)))\n",
    "    possible_positives = K.sum(K.round(K.clip(y_true, 0, 1)))\n",
    "    recall = true_positives / (possible_positives + K.epsilon())\n",
    "    return recall\n",
    "\n",
    "def precision(y_true, y_pred):\n",
    "    true_positives = K.sum(K.round(K.clip(y_true * y_pred, 0, 1)))\n",
    "    predicted_positives = K.sum(K.round(K.clip(y_pred, 0, 1)))\n",
    "    precision = true_positives / (predicted_positives + K.epsilon())\n",
    "    return precision\n",
    " \n",
    "def f1(y_true, y_pred):\n",
    "    p = precision(y_true, y_pred)\n",
    "    r = recall(y_true, y_pred)\n",
    "    return 2*((p*r)/(p+r+K.epsilon()))"
   ]
  },
  {
   "cell_type": "code",
   "execution_count": 24,
   "metadata": {
    "_uuid": "7a3fed14c968b22e18f6c6c855ab9c23b9f0cce3"
   },
   "outputs": [
    {
     "name": "stdout",
     "output_type": "stream",
     "text": [
      "__________________________________________________________________________________________________\n",
      "Layer (type)                    Output Shape         Param #     Connected to                     \n",
      "==================================================================================================\n",
      "input_3 (InputLayer)            (None, 70)           0                                            \n",
      "__________________________________________________________________________________________________\n",
      "embedding_3 (Embedding)         (None, 70, 300)      12000000    input_3[0][0]                    \n",
      "__________________________________________________________________________________________________\n",
      "reshape_2 (Reshape)             (None, 70, 300, 1)   0           embedding_3[0][0]                \n",
      "__________________________________________________________________________________________________\n",
      "conv2d_5 (Conv2D)               (None, 70, 1, 42)    12642       reshape_2[0][0]                  \n",
      "__________________________________________________________________________________________________\n",
      "conv2d_6 (Conv2D)               (None, 69, 1, 42)    25242       reshape_2[0][0]                  \n",
      "__________________________________________________________________________________________________\n",
      "conv2d_7 (Conv2D)               (None, 68, 1, 42)    37842       reshape_2[0][0]                  \n",
      "__________________________________________________________________________________________________\n",
      "conv2d_8 (Conv2D)               (None, 66, 1, 42)    63042       reshape_2[0][0]                  \n",
      "__________________________________________________________________________________________________\n",
      "max_pooling2d_5 (MaxPooling2D)  (None, 1, 1, 42)     0           conv2d_5[0][0]                   \n",
      "__________________________________________________________________________________________________\n",
      "max_pooling2d_6 (MaxPooling2D)  (None, 1, 1, 42)     0           conv2d_6[0][0]                   \n",
      "__________________________________________________________________________________________________\n",
      "max_pooling2d_7 (MaxPooling2D)  (None, 1, 1, 42)     0           conv2d_7[0][0]                   \n",
      "__________________________________________________________________________________________________\n",
      "max_pooling2d_8 (MaxPooling2D)  (None, 1, 1, 42)     0           conv2d_8[0][0]                   \n",
      "__________________________________________________________________________________________________\n",
      "concatenate_2 (Concatenate)     (None, 4, 1, 42)     0           max_pooling2d_5[0][0]            \n",
      "                                                                 max_pooling2d_6[0][0]            \n",
      "                                                                 max_pooling2d_7[0][0]            \n",
      "                                                                 max_pooling2d_8[0][0]            \n",
      "__________________________________________________________________________________________________\n",
      "flatten_2 (Flatten)             (None, 168)          0           concatenate_2[0][0]              \n",
      "__________________________________________________________________________________________________\n",
      "dropout_2 (Dropout)             (None, 168)          0           flatten_2[0][0]                  \n",
      "__________________________________________________________________________________________________\n",
      "dense_2 (Dense)                 (None, 1)            169         dropout_2[0][0]                  \n",
      "==================================================================================================\n",
      "Total params: 12,138,937\n",
      "Trainable params: 12,138,937\n",
      "Non-trainable params: 0\n",
      "__________________________________________________________________________________________________\n",
      "None\n"
     ]
    }
   ],
   "source": [
    "filter_sizes = [1,2,3,5]\n",
    "num_filters = 42\n",
    "\n",
    "def get_model():    \n",
    "    inp = Input(shape=(MAX_SEQUENCE_LENGTH, ))\n",
    "    x = Embedding(MAX_WORDS, EMBEDDING_DIM, weights=[embedding_matrix])(inp)\n",
    "#    x = SpatialDropout1D(0.4)(x)\n",
    "    x = Reshape((MAX_SEQUENCE_LENGTH, EMBEDDING_DIM, 1))(x)\n",
    "    \n",
    "    conv_0 = Conv2D(num_filters, kernel_size=(filter_sizes[0], EMBEDDING_DIM),\n",
    "                                 kernel_initializer='he_normal', activation='tanh')(x)\n",
    "    conv_1 = Conv2D(num_filters, kernel_size=(filter_sizes[1], EMBEDDING_DIM),\n",
    "                                 kernel_initializer='he_normal', activation='tanh')(x)\n",
    "    conv_2 = Conv2D(num_filters, kernel_size=(filter_sizes[2], EMBEDDING_DIM), \n",
    "                                 kernel_initializer='he_normal', activation='tanh')(x)\n",
    "    conv_3 = Conv2D(num_filters, kernel_size=(filter_sizes[3], EMBEDDING_DIM),\n",
    "                                 kernel_initializer='he_normal', activation='tanh')(x)\n",
    "    \n",
    "    maxpool_0 = MaxPool2D(pool_size=(MAX_SEQUENCE_LENGTH - filter_sizes[0] + 1, 1))(conv_0)\n",
    "    maxpool_1 = MaxPool2D(pool_size=(MAX_SEQUENCE_LENGTH - filter_sizes[1] + 1, 1))(conv_1)\n",
    "    maxpool_2 = MaxPool2D(pool_size=(MAX_SEQUENCE_LENGTH - filter_sizes[2] + 1, 1))(conv_2)\n",
    "    maxpool_3 = MaxPool2D(pool_size=(MAX_SEQUENCE_LENGTH - filter_sizes[3] + 1, 1))(conv_3)\n",
    "        \n",
    "    z = Concatenate(axis=1)([maxpool_0, maxpool_1, maxpool_2, maxpool_3])   \n",
    "    z = Flatten()(z)\n",
    "    z = Dropout(0.1)(z)\n",
    "        \n",
    "    outp = Dense(1, activation=\"sigmoid\")(z)\n",
    "    \n",
    "    model = Model(inputs=inp, outputs=outp)\n",
    "    model.compile(loss='binary_crossentropy',\n",
    "                  optimizer='adam',\n",
    "                  metrics=['accuracy', f1, recall, precision])\n",
    "\n",
    "    return model\n",
    "\n",
    "model = get_model()\n",
    "\n",
    "print(model.summary())"
   ]
  },
  {
   "cell_type": "code",
   "execution_count": 25,
   "metadata": {
    "_uuid": "51deacab40f77c038525faf1cfd2c8e820f7f01b"
   },
   "outputs": [
    {
     "name": "stdout",
     "output_type": "stream",
     "text": [
      "Train on 1044897 samples, validate on 261225 samples\n",
      "Epoch 1/2\n",
      "1044897/1044897 [==============================] - 54s 52us/step - loss: 0.1113 - acc: 0.9557 - f1: 0.5754 - recall: 0.5134 - precision: 0.6900 - val_loss: 0.1061 - val_acc: 0.9566 - val_f1: 0.5332 - val_recall: 0.4194 - val_precision: 0.7729\n",
      "Epoch 2/2\n",
      "1044897/1044897 [==============================] - 53s 51us/step - loss: 0.0923 - acc: 0.9629 - f1: 0.6637 - recall: 0.6178 - precision: 0.7411 - val_loss: 0.1009 - val_acc: 0.9594 - val_f1: 0.6182 - val_recall: 0.5530 - val_precision: 0.7232\n"
     ]
    }
   ],
   "source": [
    "batch_size = 256\n",
    "epochs = 2\n",
    "\n",
    "X_tra, X_val, y_tra, y_val = train_test_split(x_train, y_train, train_size=0.8,\n",
    "                                              random_state=233)\n",
    "\n",
    "hist = model.fit(X_tra, y_tra, batch_size=batch_size, epochs=epochs,\n",
    "                 validation_data=(X_val, y_val), verbose=1)"
   ]
  },
  {
   "cell_type": "markdown",
   "metadata": {
    "_uuid": "926710a7b8364a65a6ea5bdb8f103462b622549c",
    "colab_type": "text",
    "id": "NVFKqCPUtJcy"
   },
   "source": [
    "# Predict validation labels"
   ]
  },
  {
   "cell_type": "code",
   "execution_count": 26,
   "metadata": {
    "_uuid": "80dbd1aae9b5ec74071b7a11de96abee7cd2ad66"
   },
   "outputs": [
    {
     "name": "stdout",
     "output_type": "stream",
     "text": [
      "261225/261225 [==============================] - 2s 9us/step\n",
      "CPU times: user 1.19 s, sys: 140 ms, total: 1.33 s\n",
      "Wall time: 2.26 s\n"
     ]
    }
   ],
   "source": [
    "%%time\n",
    "\n",
    "pred_val = model.predict([X_val], batch_size=1024, verbose=1)"
   ]
  },
  {
   "cell_type": "markdown",
   "metadata": {
    "_uuid": "fbe1a9626a625a4540b35fe646af0d78e8952b24",
    "colab_type": "text",
    "id": "NVFKqCPUtJcy"
   },
   "source": [
    "# Find optimal threshold"
   ]
  },
  {
   "cell_type": "code",
   "execution_count": 27,
   "metadata": {
    "_uuid": "c5861eb15765c20d4a5be5892543520bdb006bfa"
   },
   "outputs": [
    {
     "name": "stdout",
     "output_type": "stream",
     "text": [
      "Current threshold is 0.1000 with F1 score: 0.6097, Recall score: 0.8743, Precision score: 0.4680\n",
      "Current threshold is 0.1100 with F1 score: 0.6182, Recall score: 0.8652, Precision score: 0.4809\n",
      "Current threshold is 0.1200 with F1 score: 0.6266, Recall score: 0.8570, Precision score: 0.4939\n",
      "Current threshold is 0.1300 with F1 score: 0.6339, Recall score: 0.8484, Precision score: 0.5060\n",
      "Current threshold is 0.1400 with F1 score: 0.6395, Recall score: 0.8396, Precision score: 0.5165\n",
      "Current threshold is 0.1500 with F1 score: 0.6448, Recall score: 0.8315, Precision score: 0.5266\n",
      "Current threshold is 0.1600 with F1 score: 0.6494, Recall score: 0.8226, Precision score: 0.5365\n",
      "Current threshold is 0.1700 with F1 score: 0.6538, Recall score: 0.8157, Precision score: 0.5455\n",
      "Current threshold is 0.1800 with F1 score: 0.6578, Recall score: 0.8079, Precision score: 0.5547\n",
      "Current threshold is 0.1900 with F1 score: 0.6611, Recall score: 0.8003, Precision score: 0.5632\n",
      "Current threshold is 0.2000 with F1 score: 0.6638, Recall score: 0.7920, Precision score: 0.5713\n",
      "Current threshold is 0.2100 with F1 score: 0.6664, Recall score: 0.7856, Precision score: 0.5786\n",
      "Current threshold is 0.2200 with F1 score: 0.6688, Recall score: 0.7786, Precision score: 0.5861\n",
      "Current threshold is 0.2300 with F1 score: 0.6708, Recall score: 0.7704, Precision score: 0.5939\n",
      "Current threshold is 0.2400 with F1 score: 0.6720, Recall score: 0.7623, Precision score: 0.6009\n",
      "Current threshold is 0.2500 with F1 score: 0.6727, Recall score: 0.7541, Precision score: 0.6071\n",
      "Current threshold is 0.2600 with F1 score: 0.6736, Recall score: 0.7467, Precision score: 0.6135\n",
      "Current threshold is 0.2700 with F1 score: 0.6742, Recall score: 0.7396, Precision score: 0.6195\n",
      "Current threshold is 0.2800 with F1 score: 0.6731, Recall score: 0.7307, Precision score: 0.6239\n",
      "Current threshold is 0.2900 with F1 score: 0.6737, Recall score: 0.7243, Precision score: 0.6297\n",
      "Current threshold is 0.3000 with F1 score: 0.6744, Recall score: 0.7181, Precision score: 0.6357\n",
      "Current threshold is 0.3100 with F1 score: 0.6742, Recall score: 0.7108, Precision score: 0.6412\n",
      "Current threshold is 0.3200 with F1 score: 0.6737, Recall score: 0.7026, Precision score: 0.6472\n",
      "Current threshold is 0.3300 with F1 score: 0.6728, Recall score: 0.6946, Precision score: 0.6523\n",
      "Current threshold is 0.3400 with F1 score: 0.6717, Recall score: 0.6866, Precision score: 0.6575\n",
      "Current threshold is 0.3500 with F1 score: 0.6699, Recall score: 0.6781, Precision score: 0.6618\n",
      "Current threshold is 0.3600 with F1 score: 0.6689, Recall score: 0.6703, Precision score: 0.6676\n",
      "Current threshold is 0.3700 with F1 score: 0.6667, Recall score: 0.6623, Precision score: 0.6711\n",
      "Current threshold is 0.3800 with F1 score: 0.6651, Recall score: 0.6551, Precision score: 0.6755\n",
      "Current threshold is 0.3900 with F1 score: 0.6631, Recall score: 0.6464, Precision score: 0.6806\n",
      "Current threshold is 0.4000 with F1 score: 0.6609, Recall score: 0.6381, Precision score: 0.6853\n",
      "Current threshold is 0.4100 with F1 score: 0.6599, Recall score: 0.6314, Precision score: 0.6911\n",
      "Current threshold is 0.4200 with F1 score: 0.6576, Recall score: 0.6238, Precision score: 0.6952\n",
      "Current threshold is 0.4300 with F1 score: 0.6548, Recall score: 0.6152, Precision score: 0.6999\n",
      "Current threshold is 0.4400 with F1 score: 0.6513, Recall score: 0.6066, Precision score: 0.7032\n",
      "Current threshold is 0.4500 with F1 score: 0.6480, Recall score: 0.5980, Precision score: 0.7073\n",
      "Current threshold is 0.4600 with F1 score: 0.6449, Recall score: 0.5900, Precision score: 0.7110\n",
      "Current threshold is 0.4700 with F1 score: 0.6403, Recall score: 0.5799, Precision score: 0.7148\n",
      "Current threshold is 0.4800 with F1 score: 0.6357, Recall score: 0.5703, Precision score: 0.7180\n",
      "Current threshold is 0.4900 with F1 score: 0.6318, Recall score: 0.5616, Precision score: 0.7221\n",
      "Current threshold is 0.5000 with F1 score: 0.6277, Recall score: 0.5527, Precision score: 0.7263\n",
      "optimal threshold is 0.3000 with F1 score: 0.6744\n"
     ]
    }
   ],
   "source": [
    "from sklearn.metrics import f1_score, precision_score, recall_score\n",
    "\n",
    "def optimalThreshold(y_true,y_pred):\n",
    "    idx = 0\n",
    "    cur_f1 = 0\n",
    "    cur_prec = 0\n",
    "    cur_recall = 0\n",
    "    max_f1 = 0\n",
    "    thres = 0\n",
    "    for idx in np.arange(0.1, 0.501, 0.01):\n",
    "        cur_f1 = f1_score(y_true, np.array(y_pred)> idx)\n",
    "        cur_recall = recall_score(y_true, np.array(y_pred)> idx)\n",
    "        cur_prec = precision_score(y_true, np.array(y_pred)> idx)\n",
    "        print('Current threshold is {:.4f} with F1 score: {:.4f}, Recall score: {:.4f}, Precision score: {:.4f}'\n",
    "              .format(idx, cur_f1, cur_recall, cur_prec)\n",
    "             )\n",
    "        if cur_f1 > max_f1:\n",
    "            max_f1 = cur_f1\n",
    "            thres = idx\n",
    "    print('optimal threshold is {:.4f} with F1 score: {:.4f}'.format(thres, max_f1))\n",
    "    return thres\n",
    "threshold = optimalThreshold(y_val,pred_val)"
   ]
  },
  {
   "cell_type": "code",
   "execution_count": 28,
   "metadata": {},
   "outputs": [
    {
     "name": "stdout",
     "output_type": "stream",
     "text": [
      "              precision    recall  f1-score   support\n",
      "\n",
      "     sincere       0.98      0.97      0.98    245044\n",
      "   insincere       0.64      0.72      0.67     16181\n",
      "\n",
      "   micro avg       0.96      0.96      0.96    261225\n",
      "   macro avg       0.81      0.85      0.83    261225\n",
      "weighted avg       0.96      0.96      0.96    261225\n",
      "\n"
     ]
    }
   ],
   "source": [
    "from sklearn.metrics import confusion_matrix, classification_report\n",
    "\n",
    "print(classification_report(y_val, np.array(pred_val > threshold).astype(int), target_names=['sincere', 'insincere']))\n"
   ]
  },
  {
   "cell_type": "code",
   "execution_count": 29,
   "metadata": {},
   "outputs": [
    {
     "data": {
      "image/png": "[encoded data removed]",
      "text/plain": [
       "<Figure size 432x288 with 1 Axes>"
      ]
     },
     "metadata": {},
     "output_type": "display_data"
    }
   ],
   "source": [
    "import seaborn as sns\n",
    "import matplotlib.pyplot as plt\n",
    "from matplotlib.colors import ListedColormap\n",
    "\n",
    "cm = confusion_matrix(y_val, np.array(pred_val > threshold).astype(int))\n",
    "ax = plt.subplot()\n",
    "hm = sns.heatmap(cm, annot=True, ax = ax, fmt='g', \n",
    "                 cmap=ListedColormap(['white']), linecolor='black', \n",
    "                 linewidth=1, cbar=False,\n",
    "                 xticklabels = 1, yticklabels = 1 )\n",
    "\n",
    "\n",
    "# labels, title and ticks\n",
    "ax.set_xlabel('Predicted labels')\n",
    "ax.set_ylabel('True labels') \n",
    "ax.set_title('Confusion Matrix')\n",
    "ax.xaxis.set_ticklabels(['sincere', 'insincere'])\n",
    "ax.yaxis.set_ticklabels(['sincere', 'insincere'])\n",
    "plt.show()"
   ]
  },
  {
   "cell_type": "code",
   "execution_count": 30,
   "metadata": {
    "_uuid": "0ff585d4c11ae673051881795e74ff97d8d2b4c8"
   },
   "outputs": [
    {
     "data": {
      "image/png": "[encoded data removed]",
      "text/plain": [
       "<Figure size 864x576 with 1 Axes>"
      ]
     },
     "metadata": {},
     "output_type": "display_data"
    }
   ],
   "source": [
    "plt.figure(figsize=(12,8))\n",
    "plt.title('model accuracy')\n",
    "plt.plot(hist.history['acc'])\n",
    "plt.plot(hist.history['val_acc'])\n",
    "plt.ylabel('accuracy')\n",
    "plt.xlabel('epoch')\n",
    "plt.legend(['train', 'test'], loc='upper left')\n",
    "plt.show()"
   ]
  },
  {
   "cell_type": "code",
   "execution_count": 31,
   "metadata": {
    "_uuid": "0ff585d4c11ae673051881795e74ff97d8d2b4c8"
   },
   "outputs": [
    {
     "data": {
      "image/png": "[encoded data removed]",
      "text/plain": [
       "<Figure size 864x576 with 1 Axes>"
      ]
     },
     "metadata": {},
     "output_type": "display_data"
    }
   ],
   "source": [
    "plt.figure(figsize=(12,8))\n",
    "plt.title('model loss')\n",
    "plt.plot(hist.history['loss'])\n",
    "plt.plot(hist.history['val_loss'])\n",
    "plt.ylabel('loss')\n",
    "plt.xlabel('epoch')\n",
    "plt.legend(['train', 'test'], loc='upper left')\n",
    "plt.show()"
   ]
  },
  {
   "cell_type": "code",
   "execution_count": 32,
   "metadata": {
    "_uuid": "0ff585d4c11ae673051881795e74ff97d8d2b4c8"
   },
   "outputs": [
    {
     "data": {
      "image/png": "[encoded data removed]",
      "text/plain": [
       "<Figure size 864x576 with 1 Axes>"
      ]
     },
     "metadata": {},
     "output_type": "display_data"
    }
   ],
   "source": [
    "plt.figure(figsize=(12,8))\n",
    "plt.title('model F1-score')\n",
    "plt.plot(hist.history['f1'])\n",
    "plt.plot(hist.history['val_f1'])\n",
    "plt.ylabel('f1 score')\n",
    "plt.xlabel('epoch')\n",
    "plt.legend(['train', 'test'], loc='upper left')\n",
    "plt.show()"
   ]
  },
  {
   "cell_type": "markdown",
   "metadata": {
    "colab_type": "text",
    "id": "NVFKqCPUtJcy"
   },
   "source": [
    "# serialize weights"
   ]
  },
  {
   "cell_type": "code",
   "execution_count": 33,
   "metadata": {},
   "outputs": [
    {
     "name": "stdout",
     "output_type": "stream",
     "text": [
      "Saved model weights to disk\n"
     ]
    }
   ],
   "source": [
    "model.save_weights(MODEL_VERSION + '.weights.h5')\n",
    "print(\"Saved model weights to disk\")"
   ]
  },
  {
   "cell_type": "markdown",
   "metadata": {
    "_uuid": "d377f47a86a67e1b60bf83efa2e85c08e87281dd",
    "colab_type": "text",
    "id": "NVFKqCPUtJcy"
   },
   "source": [
    "# Predict test labels"
   ]
  },
  {
   "cell_type": "code",
   "execution_count": 34,
   "metadata": {
    "_uuid": "0670f1a7c1ed5cfd85d049dfc0ef1681aaab055b"
   },
   "outputs": [
    {
     "name": "stdout",
     "output_type": "stream",
     "text": [
      "56370/56370 [==============================] - 0s 8us/step\n",
      "CPU times: user 196 ms, sys: 44 ms, total: 240 ms\n",
      "Wall time: 447 ms\n"
     ]
    }
   ],
   "source": [
    "%%time\n",
    "\n",
    "pred_test = model.predict([x_test], batch_size=1024, verbose=1)"
   ]
  },
  {
   "cell_type": "markdown",
   "metadata": {
    "_uuid": "f3c1ff0ac4324bbf847ed3fdafe4db682d833f8a",
    "colab_type": "text",
    "id": "NVFKqCPUtJcy"
   },
   "source": [
    "# Analyze predictions"
   ]
  },
  {
   "cell_type": "code",
   "execution_count": 35,
   "metadata": {
    "_uuid": "7f3601299112b7d1ea815db80243344ace06ca42"
   },
   "outputs": [],
   "source": [
    "prediction_df = pd.DataFrame({\"qid\":test[\"qid\"].values})\n",
    "prediction_df['prediction'] = (pred_test > threshold).astype(int)"
   ]
  },
  {
   "cell_type": "code",
   "execution_count": 36,
   "metadata": {},
   "outputs": [
    {
     "data": {
      "text/plain": [
       "keras.callbacks.History"
      ]
     },
     "execution_count": 36,
     "metadata": {},
     "output_type": "execute_result"
    }
   ],
   "source": [
    "type(hist)"
   ]
  },
  {
   "cell_type": "code",
   "execution_count": 37,
   "metadata": {},
   "outputs": [],
   "source": [
    "import pickle\n",
    "\n",
    "\n",
    "pickle_out = open(MODEL_VERSION + '.hist.pkl',\"wb\")\n",
    "pickle.dump(hist, pickle_out)\n",
    "pickle_out.close()"
   ]
  }
 ],
 "metadata": {
  "kernelspec": {
   "display_name": "Python 3",
   "language": "python",
   "name": "python3"
  },
  "language_info": {
   "codemirror_mode": {
    "name": "ipython",
    "version": 3
   },
   "file_extension": ".py",
   "mimetype": "text/x-python",
   "name": "python",
   "nbconvert_exporter": "python",
   "pygments_lexer": "ipython3",
   "version": "3.5.3"
  }
 },
 "nbformat": 4,
 "nbformat_minor": 2
}
