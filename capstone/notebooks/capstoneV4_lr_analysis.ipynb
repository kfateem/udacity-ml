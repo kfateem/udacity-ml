{
 "cells": [
  {
   "cell_type": "code",
   "execution_count": 1,
   "metadata": {},
   "outputs": [],
   "source": [
    "# %load_ext memory_profiler"
   ]
  },
  {
   "cell_type": "markdown",
   "metadata": {
    "_uuid": "749cb0b7d343d12569698ece840039c7fef54711",
    "colab_type": "text",
    "id": "BUSd8dmWEUf4"
   },
   "source": [
    "# Capstone V4 model\n",
    "\n",
    "Forked from V3.\n",
    "\n",
    "This is a 4 GRU model - with a smaller vocab and q length than V3. The input to each GRU comes from one of the following 4 pre-trained embedding layers:\n",
    "- glove.840B.300d\n",
    "- paragram_300_sl999\n",
    "- wiki-news-300d-1M\n",
    "- GoogleNews-vectors-negative300\n",
    "\n",
    "The validation F1-score is 0.321 at a threshold of 0.1.\n",
    "\n",
    "TODO: rerun + debug as sharp drop is unexpected."
   ]
  },
  {
   "cell_type": "markdown",
   "metadata": {
    "_uuid": "85c12f788178232533cbf7f141e217c32b882cda",
    "colab_type": "text",
    "id": "w7oagxHHofxb"
   },
   "source": [
    "# Constants"
   ]
  },
  {
   "cell_type": "code",
   "execution_count": 2,
   "metadata": {
    "_uuid": "f0421d98769ce1b3bcc0b65f729851be0d275cb5"
   },
   "outputs": [],
   "source": [
    "MODEL_VERSION = 'capstoneV4'\n",
    "MAX_SEQUENCE_LENGTH = 70\n",
    "EMBEDDING_DIM = 300\n",
    "MAX_WORDS = 40000"
   ]
  },
  {
   "cell_type": "markdown",
   "metadata": {
    "_uuid": "749cb0b7d343d12569698ece840039c7fef54711",
    "colab_type": "text",
    "id": "BUSd8dmWEUf4"
   },
   "source": [
    "## Common english contraction mappings (wikipedia):\n",
    "https://en.wikipedia.org/wiki/Wikipedia:List_of_English_contractions"
   ]
  },
  {
   "cell_type": "code",
   "execution_count": 3,
   "metadata": {
    "_uuid": "d5a645a8f6a9f70d9db108cebbc683089e548260"
   },
   "outputs": [],
   "source": [
    "CONTRACTION_MAPPING = {\"ain't\": \"is not\", \"aren't\": \"are not\",\"can't\": \"cannot\", \"'cause\": \"because\", \"could've\": \"could have\", \"couldn't\": \"could not\", \"didn't\": \"did not\",  \"doesn't\": \"does not\", \"don't\": \"do not\", \"hadn't\": \"had not\", \"hasn't\": \"has not\", \"haven't\": \"have not\", \"he'd\": \"he would\",\"he'll\": \"he will\", \"he's\": \"he is\", \"how'd\": \"how did\", \"how'd'y\": \"how do you\", \"how'll\": \"how will\", \"how's\": \"how is\",  \"I'd\": \"I would\", \"I'd've\": \"I would have\", \"I'll\": \"I will\", \"I'll've\": \"I will have\",\"I'm\": \"I am\", \"I've\": \"I have\", \"i'd\": \"i would\", \"i'd've\": \"i would have\", \"i'll\": \"i will\",  \"i'll've\": \"i will have\",\"i'm\": \"i am\", \"i've\": \"i have\", \"isn't\": \"is not\", \"it'd\": \"it would\", \"it'd've\": \"it would have\", \"it'll\": \"it will\", \"it'll've\": \"it will have\",\"it's\": \"it is\", \"let's\": \"let us\", \"ma'am\": \"madam\", \"mayn't\": \"may not\", \"might've\": \"might have\",\"mightn't\": \"might not\",\"mightn't've\": \"might not have\", \"must've\": \"must have\", \"mustn't\": \"must not\", \"mustn't've\": \"must not have\", \"needn't\": \"need not\", \"needn't've\": \"need not have\",\"o'clock\": \"of the clock\", \"oughtn't\": \"ought not\", \"oughtn't've\": \"ought not have\", \"shan't\": \"shall not\", \"sha'n't\": \"shall not\", \"shan't've\": \"shall not have\", \"she'd\": \"she would\", \"she'd've\": \"she would have\", \"she'll\": \"she will\", \"she'll've\": \"she will have\", \"she's\": \"she is\", \"should've\": \"should have\", \"shouldn't\": \"should not\", \"shouldn't've\": \"should not have\", \"so've\": \"so have\",\"so's\": \"so as\", \"this's\": \"this is\",\"that'd\": \"that would\", \"that'd've\": \"that would have\", \"that's\": \"that is\", \"there'd\": \"there would\", \"there'd've\": \"there would have\", \"there's\": \"there is\", \"here's\": \"here is\",\"they'd\": \"they would\", \"they'd've\": \"they would have\", \"they'll\": \"they will\", \"they'll've\": \"they will have\", \"they're\": \"they are\", \"they've\": \"they have\", \"to've\": \"to have\", \"wasn't\": \"was not\", \"we'd\": \"we would\", \"we'd've\": \"we would have\", \"we'll\": \"we will\", \"we'll've\": \"we will have\", \"we're\": \"we are\", \"we've\": \"we have\", \"weren't\": \"were not\", \"what'll\": \"what will\", \"what'll've\": \"what will have\", \"what're\": \"what are\",  \"what's\": \"what is\", \"what've\": \"what have\", \"when's\": \"when is\", \"when've\": \"when have\", \"where'd\": \"where did\", \"where's\": \"where is\", \"where've\": \"where have\", \"who'll\": \"who will\", \"who'll've\": \"who will have\", \"who's\": \"who is\", \"who've\": \"who have\", \"why's\": \"why is\", \"why've\": \"why have\", \"will've\": \"will have\", \"won't\": \"will not\", \"won't've\": \"will not have\", \"would've\": \"would have\", \"wouldn't\": \"would not\", \"wouldn't've\": \"would not have\", \"y'all\": \"you all\", \"y'all'd\": \"you all would\",\"y'all'd've\": \"you all would have\",\"y'all're\": \"you all are\",\"y'all've\": \"you all have\",\"you'd\": \"you would\", \"you'd've\": \"you would have\", \"you'll\": \"you will\", \"you'll've\": \"you will have\", \"you're\": \"you are\", \"you've\": \"you have\" }"
   ]
  },
  {
   "cell_type": "code",
   "execution_count": 4,
   "metadata": {
    "_uuid": "56282f6e5433223f3823e24e95fe170534e8dcae"
   },
   "outputs": [],
   "source": [
    "PUNCT = \"/-'?!.,#$%\\'()*+-/:;<=>@[\\\\]^_`{|}~\" + '\"\"“”’' + '∞θ÷α•à−β∅³π‘₹´°£€\\×™√²—–&'"
   ]
  },
  {
   "cell_type": "code",
   "execution_count": 5,
   "metadata": {
    "_uuid": "a2a79c0d80f797d3868fac83217b1e2479bee8dc"
   },
   "outputs": [],
   "source": [
    "SPECIAL_PUNCT = {'\\u200b': ' ', '…': ' ... ', '\\ufeff': '', 'करना': '', 'है': ''}"
   ]
  },
  {
   "cell_type": "code",
   "execution_count": 6,
   "metadata": {
    "_uuid": "451df1dd80192c375340a023e852cab39698d434"
   },
   "outputs": [],
   "source": [
    "PUNCT_MAPPING = {\"‘\": \"'\", \"₹\": \"e\", \"´\": \"'\", \"°\": \"\", \"€\": \"e\", \"™\": \"tm\", \"√\": \" sqrt \", \"×\": \"x\", \"²\": \"2\", \"—\": \"-\", \"–\": \"-\", \"’\": \"'\", \"_\": \"-\", \"`\": \"'\", '“': '\"', '”': '\"', '“': '\"', \"£\": \"e\", '∞': 'infinity', 'θ': 'theta', '÷': '/', 'α': 'alpha', '•': '.', 'à': 'a', '−': '-', 'β': 'beta', '∅': '', '³': '3', 'π': 'pi', }"
   ]
  },
  {
   "cell_type": "code",
   "execution_count": 7,
   "metadata": {
    "_uuid": "228dc3ca14b0b0af33d6c874400d8f01ef96a874"
   },
   "outputs": [],
   "source": [
    "MISPELL_MAPPING = {'colour': 'color', 'centre': 'center', 'favourite': 'favorite', 'travelling': 'traveling', 'counselling': 'counseling', 'theatre': 'theater', 'cancelled': 'canceled', 'labour': 'labor', 'organisation': 'organization', 'wwii': 'world war 2', 'citicise': 'criticize', 'youtu ': 'youtube ', 'Qoura': 'Quora', 'sallary': 'salary', 'Whta': 'What', 'narcisist': 'narcissist', 'howdo': 'how do', 'whatare': 'what are', 'howcan': 'how can', 'howmuch': 'how much', 'howmany': 'how many', 'whydo': 'why do', 'doI': 'do I', 'theBest': 'the best', 'howdoes': 'how does', 'mastrubation': 'masturbation', 'mastrubate': 'masturbate', \"mastrubating\": 'masturbating', 'pennis': 'penis', 'Etherium': 'Ethereum', 'narcissit': 'narcissist', 'bigdata': 'big data', '2k17': '2017', '2k18': '2018', 'qouta': 'quota', 'exboyfriend': 'ex boyfriend', 'airhostess': 'air hostess', \"whst\": 'what', 'watsapp': 'whatsapp', 'demonitisation': 'demonetization', 'demonitization': 'demonetization', 'demonetisation': 'demonetization', 'pokémon': 'pokemon'}"
   ]
  },
  {
   "cell_type": "markdown",
   "metadata": {
    "_uuid": "974ca8fb2157648f2ace9c41bf37e0d87dd2eb20",
    "colab_type": "text",
    "id": "w7oagxHHofxb"
   },
   "source": [
    "# Helpers"
   ]
  },
  {
   "cell_type": "markdown",
   "metadata": {
    "_uuid": "408f2ecb4a7380c2a57635996ca248020e4aaa94",
    "colab_type": "text",
    "id": "BUSd8dmWEUf4"
   },
   "source": [
    "## Embedding helpers"
   ]
  },
  {
   "cell_type": "code",
   "execution_count": 8,
   "metadata": {
    "_uuid": "88880adc1b1e2ca67e77db81d36165fad52d9e1c"
   },
   "outputs": [],
   "source": [
    "from gensim.models import KeyedVectors\n",
    "import numpy as np\n",
    "import pandas as pd\n",
    "import os\n",
    "\n",
    "def loadEmbeddings(path, dimensions, mode='r', encoding=None, errors=None):\n",
    "    print('Loading embeddings from: %s' %path)\n",
    "    embeddings = {}\n",
    "    f = open(path, buffering=((2<<16) + 8), mode=mode, encoding=encoding, errors=errors)\n",
    "    for line in f:\n",
    "        if len(line) <= 100:\n",
    "            continue\n",
    "        values = line.split()\n",
    "        word = ''.join(values[:-dimensions])\n",
    "        coefs = np.asarray(values[-dimensions:], dtype='float32')\n",
    "        embeddings[word] = coefs\n",
    "    f.close()\n",
    "    print('Found %s word vectors.' % len(embeddings))\n",
    "    return embeddings"
   ]
  },
  {
   "cell_type": "code",
   "execution_count": 9,
   "metadata": {
    "_uuid": "1f202cf2766c8d2a73834f057bd195928136ce1b"
   },
   "outputs": [],
   "source": [
    "def loadEmbeddingsGensim(path, dimensions, binary=True):\n",
    "    print('Loading embeddings from: %s' %path)\n",
    "    embeddings = {}\n",
    "    gensim_vecs = KeyedVectors.load_word2vec_format(path, binary=binary)\n",
    "    for word, vector in zip(gensim_vecs.vocab, gensim_vecs.vectors):\n",
    "        coefs = np.asarray(vector[-dimensions:], dtype='float32')\n",
    "        embeddings[word] = coefs\n",
    "    print('Found %s word vectors.' % len(embeddings))\n",
    "    return embeddings"
   ]
  },
  {
   "cell_type": "code",
   "execution_count": 10,
   "metadata": {
    "_uuid": "344bdbebf5757946836407ee4a0a8ace39b65228",
    "colab": {},
    "colab_type": "code",
    "id": "0KeJJofUpQm9"
   },
   "outputs": [],
   "source": [
    "def getEmbeddingMatrix(embedding, word_index):\n",
    "    all_embs = np.stack(embedding.values())\n",
    "    emb_mean,emb_std = all_embs.mean(), all_embs.std()\n",
    "    embed_size = all_embs.shape[1]\n",
    "    \n",
    "    nb_words = min(MAX_WORDS, len(word_index))\n",
    "    embedding_matrix = np.random.normal(emb_mean, emb_std, (nb_words, embed_size))\n",
    "    for word, i in word_index.items():\n",
    "        if i >= MAX_WORDS:\n",
    "            continue\n",
    "        embedding_vector = embedding.get(word)\n",
    "        if embedding_vector is not None:\n",
    "            embedding_matrix[i] = embedding_vector\n",
    "    \n",
    "    return embedding_matrix"
   ]
  },
  {
   "cell_type": "markdown",
   "metadata": {
    "_uuid": "e462ed6a5cd6b481db42664c68c3451b61026d76",
    "colab_type": "text",
    "id": "BUSd8dmWEUf4"
   },
   "source": [
    "### Helper to replace contractions in dataset"
   ]
  },
  {
   "cell_type": "code",
   "execution_count": 11,
   "metadata": {
    "_uuid": "e9cd4f331303cea868030ed771c30c01a65f74a7"
   },
   "outputs": [],
   "source": [
    "def clean_contractions(text):\n",
    "    specials = [\"’\", \"‘\", \"´\", \"`\"]\n",
    "    for s in specials:\n",
    "        text = text.replace(s, \"'\")\n",
    "    text = ' '.join([CONTRACTION_MAPPING[t] if t in CONTRACTION_MAPPING else t for t in text.split(\" \")])\n",
    "    return text"
   ]
  },
  {
   "cell_type": "markdown",
   "metadata": {
    "_uuid": "4d9fd63b54dda11ec562c8e2c85fa386e9910958",
    "colab_type": "text",
    "id": "BUSd8dmWEUf4"
   },
   "source": [
    "### Helper to remap punctuations in dataset"
   ]
  },
  {
   "cell_type": "code",
   "execution_count": 12,
   "metadata": {
    "_uuid": "c1b038b3cadf6c09fcb2523a1171ad8e95a1700d"
   },
   "outputs": [],
   "source": [
    "def clean_special_chars(text):\n",
    "    for p in PUNCT_MAPPING:\n",
    "        text = text.replace(p, PUNCT_MAPPING[p])\n",
    "    \n",
    "    for p in PUNCT:\n",
    "        text = text.replace(p, ' ' + p + ' ')\n",
    "    \n",
    "    for s in SPECIAL_PUNCT:\n",
    "        text = text.replace(s, SPECIAL_PUNCT[s])\n",
    "    \n",
    "    return text"
   ]
  },
  {
   "cell_type": "markdown",
   "metadata": {
    "_uuid": "dbcf585e91cd7faad3c230d6eb191dc39695db17",
    "colab_type": "text",
    "id": "BUSd8dmWEUf4"
   },
   "source": [
    "### Helper to correct common mispellings"
   ]
  },
  {
   "cell_type": "code",
   "execution_count": 13,
   "metadata": {
    "_uuid": "186bf0c75630a56d02120c197712e4fb5681ad8d"
   },
   "outputs": [],
   "source": [
    "def correct_spelling(x):\n",
    "    for word in MISPELL_MAPPING.keys():\n",
    "        x = x.replace(word, MISPELL_MAPPING[word])\n",
    "    return x"
   ]
  },
  {
   "cell_type": "markdown",
   "metadata": {
    "_uuid": "92cc1a4a5777c338f819adde4ec455d9856013dc",
    "colab_type": "text",
    "id": "BUSd8dmWEUf4"
   },
   "source": [
    "## Coverage helpers"
   ]
  },
  {
   "cell_type": "code",
   "execution_count": 14,
   "metadata": {
    "_uuid": "20732a275083041d5a06ad4bd6a7938f7333afda"
   },
   "outputs": [],
   "source": [
    "from collections import Counter\n",
    "\n",
    "def build_vocab(texts):\n",
    "    sentences = texts.apply(lambda x: x.split()).values\n",
    "    vocab = Counter()\n",
    "    for sentence in sentences:\n",
    "        for word in sentence:\n",
    "            vocab[word] += 1\n",
    "    return vocab"
   ]
  },
  {
   "cell_type": "code",
   "execution_count": 15,
   "metadata": {
    "_uuid": "b83aab607f791f5824b3eca4277741950cd36d92"
   },
   "outputs": [],
   "source": [
    "import operator\n",
    "\n",
    "def check_coverage(vocab, embeddings_index):\n",
    "    known_words = {}\n",
    "    unknown_words = {}\n",
    "    nb_known_words = 0\n",
    "    nb_unknown_words = 0\n",
    "    for word in vocab.keys():\n",
    "        try:\n",
    "            known_words[word] = embeddings_index[word]\n",
    "            nb_known_words += vocab[word]\n",
    "        except:\n",
    "            unknown_words[word] = vocab[word]\n",
    "            nb_unknown_words += vocab[word]\n",
    "            pass\n",
    "\n",
    "    print('Found embeddings for {:.2%} of vocab'.format(len(known_words) / len(vocab)))\n",
    "    print('Found embeddings for  {:.2%} of all text'.format(nb_known_words / (nb_known_words + nb_unknown_words)))\n",
    "    unknown_words = sorted(unknown_words.items(), key=operator.itemgetter(1))[::-1]\n",
    "\n",
    "    return unknown_words"
   ]
  },
  {
   "cell_type": "markdown",
   "metadata": {
    "_uuid": "70e187637082e5f448863c5f965fff8ab80ed065",
    "colab_type": "text",
    "id": "w7oagxHHofxb"
   },
   "source": [
    "# Import test/train dataset"
   ]
  },
  {
   "cell_type": "code",
   "execution_count": 196,
   "metadata": {
    "_uuid": "e20e43f9ea433ee2eee88003355ef86f724fa01c",
    "colab": {},
    "colab_type": "code",
    "id": "X3n8bRW6WcKo"
   },
   "outputs": [],
   "source": [
    "train_df = pd.read_csv(\"../input/train.csv\")\n",
    "test_df = pd.read_csv(\"../input/test.csv\")\n",
    "\n",
    "pd.options.display.max_columns = None\n",
    "pd.options.display.max_rows = None\n",
    "pd.options.display.max_colwidth = -1"
   ]
  },
  {
   "cell_type": "markdown",
   "metadata": {
    "_uuid": "2052ad18f26ea6c28d4feeaac402d61438a6f1cf",
    "colab_type": "text",
    "id": "w7oagxHHofxb"
   },
   "source": [
    "# Analyze train and test data"
   ]
  },
  {
   "cell_type": "code",
   "execution_count": 17,
   "metadata": {
    "_uuid": "8f55a111d1222a541a6cc5938de12577b3b12215",
    "colab": {
     "base_uri": "https://localhost:8080/",
     "height": 393
    },
    "colab_type": "code",
    "id": "h0aRi6Toaq8j",
    "outputId": "5d5c6246-c8c3-49e0-e8b7-58850a83f62f"
   },
   "outputs": [
    {
     "name": "stdout",
     "output_type": "stream",
     "text": [
      "Sample insincere questions\n"
     ]
    },
    {
     "data": {
      "text/html": [
       "<div>\n",
       "<style scoped>\n",
       "    .dataframe tbody tr th:only-of-type {\n",
       "        vertical-align: middle;\n",
       "    }\n",
       "\n",
       "    .dataframe tbody tr th {\n",
       "        vertical-align: top;\n",
       "    }\n",
       "\n",
       "    .dataframe thead th {\n",
       "        text-align: right;\n",
       "    }\n",
       "</style>\n",
       "<table border=\"1\" class=\"dataframe\">\n",
       "  <thead>\n",
       "    <tr style=\"text-align: right;\">\n",
       "      <th></th>\n",
       "      <th>qid</th>\n",
       "      <th>question_text</th>\n",
       "      <th>target</th>\n",
       "    </tr>\n",
       "  </thead>\n",
       "  <tbody>\n",
       "    <tr>\n",
       "      <th>198036</th>\n",
       "      <td>26b65dcdd60d105daef5</td>\n",
       "      <td>Christians: Should atheists be allowed to vote in the United States?</td>\n",
       "      <td>1</td>\n",
       "    </tr>\n",
       "    <tr>\n",
       "      <th>882293</th>\n",
       "      <td>acd9d5ba80f463c47cae</td>\n",
       "      <td>Why do people on Quora simplify the complexity of the world in their questions?</td>\n",
       "      <td>1</td>\n",
       "    </tr>\n",
       "    <tr>\n",
       "      <th>133331</th>\n",
       "      <td>1a19325fda11dbab9c8f</td>\n",
       "      <td>What would happen if Erdogan, the President of Turkey, declared a jihad on Greece like he recently threatened to? Does he even have the rights to do that under Sharia law? Would other Muslim extremist groups support him?</td>\n",
       "      <td>1</td>\n",
       "    </tr>\n",
       "    <tr>\n",
       "      <th>733415</th>\n",
       "      <td>8fa4e845df9214d52be2</td>\n",
       "      <td>Why does Modi have a low IQ, even lower than the Indians PISA kids who scored bottom of the world?</td>\n",
       "      <td>1</td>\n",
       "    </tr>\n",
       "    <tr>\n",
       "      <th>1304137</th>\n",
       "      <td>ff9cbe21b9a127b9ef09</td>\n",
       "      <td>Why do Indians on Quora indulge so much in spreading lies and negativity about Pakistan?</td>\n",
       "      <td>1</td>\n",
       "    </tr>\n",
       "    <tr>\n",
       "      <th>786611</th>\n",
       "      <td>9a1a5d3891265a25be7c</td>\n",
       "      <td>Should President Trump receive the Nobel Peace Prize for inducing North Korea to officially end the war with South Korea and ending its nuclear bomb program?</td>\n",
       "      <td>1</td>\n",
       "    </tr>\n",
       "    <tr>\n",
       "      <th>908508</th>\n",
       "      <td>b204cf237a0132a7b83a</td>\n",
       "      <td>Why are Muslims from Egypt far more religion conscious and god fearing as compared to Turkey?</td>\n",
       "      <td>1</td>\n",
       "    </tr>\n",
       "    <tr>\n",
       "      <th>1149877</th>\n",
       "      <td>e14c8ee3cd0dbacd772c</td>\n",
       "      <td>Is there any hard evidence of Japan's guilt in the attack on Pearl Harbor?</td>\n",
       "      <td>1</td>\n",
       "    </tr>\n",
       "    <tr>\n",
       "      <th>1125908</th>\n",
       "      <td>dca2df02ce65268629b4</td>\n",
       "      <td>Why are SJWs trying so very hard to make the New Order from star wars, look like angry trump and white surpremacits, when classically the Galactic Empire employed aliens in their ranks? Why the push to make whites racist?</td>\n",
       "      <td>1</td>\n",
       "    </tr>\n",
       "    <tr>\n",
       "      <th>930430</th>\n",
       "      <td>b6572ce4aa9f74c5acf3</td>\n",
       "      <td>Do you find it sad that Trump has a more realistic and rational environmental policy than all the liberals, including Barack Obama?</td>\n",
       "      <td>1</td>\n",
       "    </tr>\n",
       "  </tbody>\n",
       "</table>\n",
       "</div>"
      ],
      "text/plain": [
       "                          qid  \\\n",
       "198036   26b65dcdd60d105daef5   \n",
       "882293   acd9d5ba80f463c47cae   \n",
       "133331   1a19325fda11dbab9c8f   \n",
       "733415   8fa4e845df9214d52be2   \n",
       "1304137  ff9cbe21b9a127b9ef09   \n",
       "786611   9a1a5d3891265a25be7c   \n",
       "908508   b204cf237a0132a7b83a   \n",
       "1149877  e14c8ee3cd0dbacd772c   \n",
       "1125908  dca2df02ce65268629b4   \n",
       "930430   b6572ce4aa9f74c5acf3   \n",
       "\n",
       "                                                                                                                                                                                                                         question_text  \\\n",
       "198036   Christians: Should atheists be allowed to vote in the United States?                                                                                                                                                            \n",
       "882293   Why do people on Quora simplify the complexity of the world in their questions?                                                                                                                                                 \n",
       "133331   What would happen if Erdogan, the President of Turkey, declared a jihad on Greece like he recently threatened to? Does he even have the rights to do that under Sharia law? Would other Muslim extremist groups support him?    \n",
       "733415   Why does Modi have a low IQ, even lower than the Indians PISA kids who scored bottom of the world?                                                                                                                              \n",
       "1304137  Why do Indians on Quora indulge so much in spreading lies and negativity about Pakistan?                                                                                                                                        \n",
       "786611   Should President Trump receive the Nobel Peace Prize for inducing North Korea to officially end the war with South Korea and ending its nuclear bomb program?                                                                   \n",
       "908508   Why are Muslims from Egypt far more religion conscious and god fearing as compared to Turkey?                                                                                                                                   \n",
       "1149877  Is there any hard evidence of Japan's guilt in the attack on Pearl Harbor?                                                                                                                                                      \n",
       "1125908  Why are SJWs trying so very hard to make the New Order from star wars, look like angry trump and white surpremacits, when classically the Galactic Empire employed aliens in their ranks? Why the push to make whites racist?   \n",
       "930430   Do you find it sad that Trump has a more realistic and rational environmental policy than all the liberals, including Barack Obama?                                                                                             \n",
       "\n",
       "         target  \n",
       "198036   1       \n",
       "882293   1       \n",
       "133331   1       \n",
       "733415   1       \n",
       "1304137  1       \n",
       "786611   1       \n",
       "908508   1       \n",
       "1149877  1       \n",
       "1125908  1       \n",
       "930430   1       "
      ]
     },
     "execution_count": 17,
     "metadata": {},
     "output_type": "execute_result"
    }
   ],
   "source": [
    "print(\"Sample insincere questions\")\n",
    "train_df.loc[train_df['target'] == 1].sample(10)"
   ]
  },
  {
   "cell_type": "code",
   "execution_count": 18,
   "metadata": {
    "_uuid": "73bd9f42266c6c2184ff65017ccb5f62e38314f5",
    "colab": {
     "base_uri": "https://localhost:8080/",
     "height": 376
    },
    "colab_type": "code",
    "id": "n_mslOIdaj8G",
    "outputId": "c0c9da0b-96d8-436f-fe37-28a2da1d6b69"
   },
   "outputs": [
    {
     "name": "stdout",
     "output_type": "stream",
     "text": [
      "Sample sincere questions\n"
     ]
    },
    {
     "data": {
      "text/html": [
       "<div>\n",
       "<style scoped>\n",
       "    .dataframe tbody tr th:only-of-type {\n",
       "        vertical-align: middle;\n",
       "    }\n",
       "\n",
       "    .dataframe tbody tr th {\n",
       "        vertical-align: top;\n",
       "    }\n",
       "\n",
       "    .dataframe thead th {\n",
       "        text-align: right;\n",
       "    }\n",
       "</style>\n",
       "<table border=\"1\" class=\"dataframe\">\n",
       "  <thead>\n",
       "    <tr style=\"text-align: right;\">\n",
       "      <th></th>\n",
       "      <th>qid</th>\n",
       "      <th>question_text</th>\n",
       "      <th>target</th>\n",
       "    </tr>\n",
       "  </thead>\n",
       "  <tbody>\n",
       "    <tr>\n",
       "      <th>488608</th>\n",
       "      <td>5fb17bba599e89e082a4</td>\n",
       "      <td>Why do babies cry at birth?</td>\n",
       "      <td>0</td>\n",
       "    </tr>\n",
       "    <tr>\n",
       "      <th>691418</th>\n",
       "      <td>876a327a8fa92c293baa</td>\n",
       "      <td>Am I wrong for not forgiving my family for ruining my childhood?</td>\n",
       "      <td>0</td>\n",
       "    </tr>\n",
       "    <tr>\n",
       "      <th>602177</th>\n",
       "      <td>75f139144598e0324bb5</td>\n",
       "      <td>Is there anyone who provide home fitness services in Karachi?</td>\n",
       "      <td>0</td>\n",
       "    </tr>\n",
       "    <tr>\n",
       "      <th>120233</th>\n",
       "      <td>178a1773840bea70ecc2</td>\n",
       "      <td>Do you need a specific prescription for computer glasses?</td>\n",
       "      <td>0</td>\n",
       "    </tr>\n",
       "    <tr>\n",
       "      <th>310437</th>\n",
       "      <td>3ccf7886d15f325ace81</td>\n",
       "      <td>When did shaving your head due to balding become common place?</td>\n",
       "      <td>0</td>\n",
       "    </tr>\n",
       "    <tr>\n",
       "      <th>864719</th>\n",
       "      <td>a96d90f013ff09f07753</td>\n",
       "      <td>Do intelligent people tend to criticize more and demand total perfection?</td>\n",
       "      <td>0</td>\n",
       "    </tr>\n",
       "    <tr>\n",
       "      <th>331004</th>\n",
       "      <td>40e0410129d7fa035d2f</td>\n",
       "      <td>How can I set limited quantity for Configurable Product in Magento?</td>\n",
       "      <td>0</td>\n",
       "    </tr>\n",
       "    <tr>\n",
       "      <th>958232</th>\n",
       "      <td>bbb9f940c1a03110cdfc</td>\n",
       "      <td>What was the grand tour of the HMS Challenger?</td>\n",
       "      <td>0</td>\n",
       "    </tr>\n",
       "    <tr>\n",
       "      <th>1024619</th>\n",
       "      <td>c8c99adb143ffcc14277</td>\n",
       "      <td>What cost saving have you done at your abode being a mechanical engineer?</td>\n",
       "      <td>0</td>\n",
       "    </tr>\n",
       "    <tr>\n",
       "      <th>323560</th>\n",
       "      <td>3f6b781e32e294ab5b80</td>\n",
       "      <td>What impact investing funds publicly share their portfolios and selection criteria?</td>\n",
       "      <td>0</td>\n",
       "    </tr>\n",
       "  </tbody>\n",
       "</table>\n",
       "</div>"
      ],
      "text/plain": [
       "                          qid  \\\n",
       "488608   5fb17bba599e89e082a4   \n",
       "691418   876a327a8fa92c293baa   \n",
       "602177   75f139144598e0324bb5   \n",
       "120233   178a1773840bea70ecc2   \n",
       "310437   3ccf7886d15f325ace81   \n",
       "864719   a96d90f013ff09f07753   \n",
       "331004   40e0410129d7fa035d2f   \n",
       "958232   bbb9f940c1a03110cdfc   \n",
       "1024619  c8c99adb143ffcc14277   \n",
       "323560   3f6b781e32e294ab5b80   \n",
       "\n",
       "                                                                               question_text  \\\n",
       "488608   Why do babies cry at birth?                                                           \n",
       "691418   Am I wrong for not forgiving my family for ruining my childhood?                      \n",
       "602177   Is there anyone who provide home fitness services in Karachi?                         \n",
       "120233   Do you need a specific prescription for computer glasses?                             \n",
       "310437   When did shaving your head due to balding become common place?                        \n",
       "864719   Do intelligent people tend to criticize more and demand total perfection?             \n",
       "331004   How can I set limited quantity for Configurable Product in Magento?                   \n",
       "958232   What was the grand tour of the HMS Challenger?                                        \n",
       "1024619  What cost saving have you done at your abode being a mechanical engineer?             \n",
       "323560   What impact investing funds publicly share their portfolios and selection criteria?   \n",
       "\n",
       "         target  \n",
       "488608   0       \n",
       "691418   0       \n",
       "602177   0       \n",
       "120233   0       \n",
       "310437   0       \n",
       "864719   0       \n",
       "331004   0       \n",
       "958232   0       \n",
       "1024619  0       \n",
       "323560   0       "
      ]
     },
     "execution_count": 18,
     "metadata": {},
     "output_type": "execute_result"
    }
   ],
   "source": [
    "print(\"Sample sincere questions\")\n",
    "train_df.loc[train_df['target'] == 0].sample(10)"
   ]
  },
  {
   "cell_type": "code",
   "execution_count": 19,
   "metadata": {
    "_uuid": "7b8a948c3ae97a09decf8f0a6fadff9eed5f83b1"
   },
   "outputs": [
    {
     "name": "stdout",
     "output_type": "stream",
     "text": [
      "0    0.93813\n",
      "1    0.06187\n",
      "Name: target, dtype: float64\n"
     ]
    },
    {
     "data": {
      "text/plain": [
       "<Figure size 640x480 with 1 Axes>"
      ]
     },
     "metadata": {},
     "output_type": "display_data"
    }
   ],
   "source": [
    "import matplotlib.pyplot as plt\n",
    "import numpy as np\n",
    "\n",
    "target_ratios = train_df.target.value_counts(normalize=True)\n",
    "\n",
    "print(target_ratios)\n",
    "\n",
    "target_ratios.plot(kind='bar', title='Ratios (target)')\n",
    "plt.show()"
   ]
  },
  {
   "cell_type": "code",
   "execution_count": 20,
   "metadata": {
    "_uuid": "323d3c4ed532d94120a8681d822c5ad60fc6abae"
   },
   "outputs": [
    {
     "name": "stdout",
     "output_type": "stream",
     "text": [
      "Average word length of questions in train is 13.\n",
      "Average word length of questions in test is 13.\n"
     ]
    }
   ],
   "source": [
    "print('Average word length of questions in train is {0:.0f}.'.format(np.mean(train_df['question_text'].apply(lambda x: len(x.split())))))\n",
    "print('Average word length of questions in test is {0:.0f}.'.format(np.mean(test_df['question_text'].apply(lambda x: len(x.split())))))"
   ]
  },
  {
   "cell_type": "code",
   "execution_count": 21,
   "metadata": {
    "_uuid": "3b49c4e9bbe8ab8ccddfc8b9c8b24bcafe1bbd3c"
   },
   "outputs": [
    {
     "name": "stdout",
     "output_type": "stream",
     "text": [
      "Max word length of questions in train is 134.\n",
      "Max word length of questions in test is 87.\n"
     ]
    }
   ],
   "source": [
    "print('Max word length of questions in train is {0:.0f}.'.format(np.max(train_df['question_text'].apply(lambda x: len(x.split())))))\n",
    "print('Max word length of questions in test is {0:.0f}.'.format(np.max(test_df['question_text'].apply(lambda x: len(x.split())))))"
   ]
  },
  {
   "cell_type": "code",
   "execution_count": 22,
   "metadata": {
    "_uuid": "83ede400076de1e67b90de70553ae273d0b16473"
   },
   "outputs": [
    {
     "name": "stdout",
     "output_type": "stream",
     "text": [
      "Average character length of questions in train is 71.\n",
      "Average character length of questions in test is 70.\n"
     ]
    }
   ],
   "source": [
    "print('Average character length of questions in train is {0:.0f}.'.format(np.mean(train_df['question_text'].apply(lambda x: len(x)))))\n",
    "print('Average character length of questions in test is {0:.0f}.'.format(np.mean(test_df['question_text'].apply(lambda x: len(x)))))"
   ]
  },
  {
   "cell_type": "code",
   "execution_count": 23,
   "metadata": {
    "_uuid": "1b66752d7dfea96b9c5b171edfe6f6d2831956a1"
   },
   "outputs": [
    {
     "name": "stdout",
     "output_type": "stream",
     "text": [
      "Max character length of questions in train is 1017.\n",
      "Max character length of questions in test is 588.\n"
     ]
    }
   ],
   "source": [
    "print('Max character length of questions in train is {0:.0f}.'.format(np.max(train_df['question_text'].apply(lambda x: len(x)))))\n",
    "print('Max character length of questions in test is {0:.0f}.'.format(np.max(test_df['question_text'].apply(lambda x: len(x)))))"
   ]
  },
  {
   "cell_type": "code",
   "execution_count": 24,
   "metadata": {
    "_uuid": "5ff56f79415f02f3a029a2a12c40444410427763"
   },
   "outputs": [
    {
     "name": "stdout",
     "output_type": "stream",
     "text": [
      "p999 character length of questions in train is 249.\n",
      "p999 character length of questions in test is 249.\n"
     ]
    }
   ],
   "source": [
    "print('p999 character length of questions in train is {0:.0f}.'.format(np.percentile(train_df['question_text'].apply(lambda x: len(x)), 99.9)))\n",
    "print('p999 character length of questions in test is {0:.0f}.'.format(np.percentile(test_df['question_text'].apply(lambda x: len(x)), 99.9)))"
   ]
  },
  {
   "cell_type": "markdown",
   "metadata": {
    "_uuid": "755dc21b8d2ad16d4711e5f3cfc664617fba4a3f",
    "colab_type": "text",
    "id": "QIn-67cmvDFk"
   },
   "source": [
    "# Data processing\n"
   ]
  },
  {
   "cell_type": "markdown",
   "metadata": {
    "_uuid": "e32a7c365a4f71149537c44eca72b762c0cf1a8b",
    "colab_type": "text",
    "id": "QIn-67cmvDFk"
   },
   "source": [
    "## TODO: Feature engineering\n",
    "\n",
    "Add feature engineering here."
   ]
  },
  {
   "cell_type": "code",
   "execution_count": 25,
   "metadata": {
    "_uuid": "a65029f02944902ad1c4a3b988ba4d166ce26910"
   },
   "outputs": [
    {
     "name": "stdout",
     "output_type": "stream",
     "text": [
      "CPU times: user 50.7 s, sys: 316 ms, total: 51 s\n",
      "Wall time: 51 s\n"
     ]
    }
   ],
   "source": [
    "%%time\n",
    "\n",
    "train_df['treated_question'] = train_df['question_text'].apply(lambda x: x.lower())\n",
    "train_df['treated_question'] = train_df['treated_question'].apply(lambda x: clean_contractions(x))\n",
    "train_df['treated_question'] = train_df['treated_question'].apply(lambda x: clean_special_chars(x))\n",
    "train_df['treated_question'] = train_df['treated_question'].apply(lambda x: correct_spelling(x))\n",
    "\n",
    "test_df['treated_question'] = test_df['question_text'].apply(lambda x: x.lower())\n",
    "test_df['treated_question'] = test_df['treated_question'].apply(lambda x: clean_contractions(x))\n",
    "test_df['treated_question'] = test_df['treated_question'].apply(lambda x: clean_special_chars(x))\n",
    "test_df['treated_question'] = test_df['treated_question'].apply(lambda x: correct_spelling(x))"
   ]
  },
  {
   "cell_type": "markdown",
   "metadata": {
    "_uuid": "ab9fc29433d90e5d99d5fe728bb92d3c613a1e9f",
    "colab_type": "text",
    "id": "QIn-67cmvDFk"
   },
   "source": [
    "## Fill data"
   ]
  },
  {
   "cell_type": "code",
   "execution_count": 26,
   "metadata": {
    "_uuid": "c3eff454f10f0f7ca9552205a993b094fa5b5c57",
    "colab": {
     "base_uri": "https://localhost:8080/",
     "height": 34
    },
    "colab_type": "code",
    "id": "bbmOu7FPvNgI",
    "outputId": "653bd496-0185-474a-d557-9d3d2dbacf08"
   },
   "outputs": [
    {
     "name": "stdout",
     "output_type": "stream",
     "text": [
      "Found 1306122 training questions.\n",
      "Found 56370 test questions.\n"
     ]
    }
   ],
   "source": [
    "X_train = train_df['treated_question'].fillna('+++').tolist()\n",
    "y_train = train_df['target']\n",
    "X_test = test_df['treated_question'].fillna('+++').tolist()\n",
    "\n",
    "\n",
    "print('Found %s training questions.' % len(X_train))\n",
    "print('Found %s test questions.' % len(X_test))"
   ]
  },
  {
   "cell_type": "code",
   "execution_count": 27,
   "metadata": {
    "_uuid": "d9bb5e7c69abf941c142775505c87fb8804f6345",
    "colab": {
     "base_uri": "https://localhost:8080/",
     "height": 85
    },
    "colab_type": "code",
    "id": "_kbWqXCezaBA",
    "outputId": "79004f92-5f67-4ceb-caf0-01a78506cb9f"
   },
   "outputs": [
    {
     "name": "stderr",
     "output_type": "stream",
     "text": [
      "Using TensorFlow backend.\n"
     ]
    },
    {
     "name": "stdout",
     "output_type": "stream",
     "text": [
      "Shape of X_train: (1306122, 70)\n",
      "Shape of y_train: (1306122,)\n",
      "Found 195975 unique tokens.\n"
     ]
    }
   ],
   "source": [
    "from keras.preprocessing.text import Tokenizer\n",
    "from keras.preprocessing.sequence import pad_sequences\n",
    "\n",
    "tokenizer = Tokenizer(num_words=MAX_WORDS, lower=True, split=' ', filters='',\n",
    "                       char_level=False, oov_token=None, document_count=0,\n",
    "                      )\n",
    "                                   \n",
    "tokenizer.fit_on_texts(X_train)\n",
    "X_train = tokenizer.texts_to_sequences(X_train)\n",
    "X_train = pad_sequences(X_train, maxlen=MAX_SEQUENCE_LENGTH)\n",
    "\n",
    "X_test = tokenizer.texts_to_sequences(X_test)\n",
    "X_test = pad_sequences(X_test, maxlen=MAX_SEQUENCE_LENGTH)\n",
    "\n",
    "print('Shape of X_train:', X_train.shape)\n",
    "print('Shape of y_train:', y_train.shape)\n",
    "\n",
    "word_index = tokenizer.word_index\n",
    "\n",
    "print('Found %s unique tokens.' % len(word_index))"
   ]
  },
  {
   "cell_type": "markdown",
   "metadata": {
    "_uuid": "aedafbcf978e9c8eb2db0fa3fc650762f02d87a0",
    "colab_type": "text",
    "id": "BUSd8dmWEUf4"
   },
   "source": [
    "## Save tokenized data + word index"
   ]
  },
  {
   "cell_type": "code",
   "execution_count": 28,
   "metadata": {},
   "outputs": [
    {
     "name": "stdout",
     "output_type": "stream",
     "text": [
      "CPU times: user 224 ms, sys: 376 ms, total: 600 ms\n",
      "Wall time: 1.01 s\n"
     ]
    }
   ],
   "source": [
    "%%time\n",
    "\n",
    "import gc\n",
    "import pickle\n",
    "\n",
    "test_df.to_pickle('test_df.pkl')\n",
    "\n",
    "np.save('X_train.npy', X_train)\n",
    "np.save('X_test.npy', X_test)\n",
    "y_train.to_pickle('y_train.pkl')\n",
    "\n",
    "pickle.dump(word_index, open('word_index.pkl', 'wb'))\n",
    "\n",
    "del X_train\n",
    "del X_test\n",
    "del y_train\n",
    "\n",
    "gc.collect()\n"
   ]
  },
  {
   "cell_type": "markdown",
   "metadata": {
    "_uuid": "aedafbcf978e9c8eb2db0fa3fc650762f02d87a0",
    "colab_type": "text",
    "id": "BUSd8dmWEUf4"
   },
   "source": [
    "## Build vocabulary with counts"
   ]
  },
  {
   "cell_type": "code",
   "execution_count": 29,
   "metadata": {
    "_uuid": "860e94814f74b4282fce01a2c8c42d7c29d1dabf"
   },
   "outputs": [
    {
     "name": "stdout",
     "output_type": "stream",
     "text": [
      "CPU times: user 13.6 s, sys: 468 ms, total: 14.1 s\n",
      "Wall time: 14.1 s\n"
     ]
    }
   ],
   "source": [
    "%%time\n",
    "\n",
    "train_vocab = build_vocab(train_df['treated_question'])\n",
    "del train_df\n",
    "test_vocab = build_vocab(test_df['treated_question'])\n",
    "del test_df\n",
    "\n",
    "vocab = train_vocab + test_vocab\n",
    "del train_vocab\n",
    "del test_vocab"
   ]
  },
  {
   "cell_type": "markdown",
   "metadata": {
    "_uuid": "e1d40498bd469f8c5784570ddb88bb65a6367064",
    "colab_type": "text",
    "id": "BUSd8dmWEUf4"
   },
   "source": [
    "## Load embeddings, measure coverage and save embedding matrix"
   ]
  },
  {
   "cell_type": "markdown",
   "metadata": {
    "colab_type": "text",
    "id": "aNd1KcNjsvxj"
   },
   "source": [
    "# Restore point (optional)"
   ]
  },
  {
   "cell_type": "code",
   "execution_count": 84,
   "metadata": {},
   "outputs": [],
   "source": [
    "\n",
    "import pickle\n",
    "\n",
    "word_index = pickle.load(open('word_index.pkl', 'rb'))\n"
   ]
  },
  {
   "cell_type": "code",
   "execution_count": 31,
   "metadata": {
    "_uuid": "2801e906d9eb5bc96c231cf1e3d577a160d8d289",
    "colab": {
     "base_uri": "https://localhost:8080/",
     "height": 34
    },
    "colab_type": "code",
    "id": "YfAhNjEJEXmN",
    "outputId": "58618a30-4fab-44f0-8dec-591a8df2da47"
   },
   "outputs": [
    {
     "name": "stdout",
     "output_type": "stream",
     "text": [
      "glove:\n",
      "Loading embeddings from: ../input/embeddings/glove.840B.300d/glove.840B.300d.txt\n",
      "Found 2195892 word vectors.\n",
      "Found embeddings for 63.10% of vocab\n",
      "Found embeddings for  99.39% of all text\n",
      "CPU times: user 2min 43s, sys: 6.88 s, total: 2min 50s\n",
      "Wall time: 2min 50s\n"
     ]
    }
   ],
   "source": [
    "%%time\n",
    "\n",
    "import gc\n",
    "\n",
    "print('glove:')\n",
    "glove_path = '../input/embeddings/glove.840B.300d/glove.840B.300d.txt'\n",
    "embeddings_index = loadEmbeddings(glove_path, EMBEDDING_DIM)\n",
    "check_coverage(vocab, embeddings_index)\n",
    "embedding_matrix = getEmbeddingMatrix(embeddings_index, word_index)\n",
    "del embeddings_index\n",
    "gc.collect()\n",
    "np.save('glove.npy', embedding_matrix)"
   ]
  },
  {
   "cell_type": "code",
   "execution_count": 32,
   "metadata": {
    "_uuid": "889bc1ae4af9fe032c72e8c8c606ae5b1d66f7d8",
    "colab": {
     "base_uri": "https://localhost:8080/",
     "height": 34
    },
    "colab_type": "code",
    "id": "YfAhNjEJEXmN",
    "outputId": "58618a30-4fab-44f0-8dec-591a8df2da47"
   },
   "outputs": [
    {
     "name": "stdout",
     "output_type": "stream",
     "text": [
      "paragram:\n",
      "Loading embeddings from: ../input/embeddings/paragram_300_sl999/paragram_300_sl999.txt\n",
      "Found 1703663 word vectors.\n",
      "Found embeddings for 74.06% of vocab\n",
      "Found embeddings for  99.64% of all text\n"
     ]
    }
   ],
   "source": [
    "print('paragram:')\n",
    "paragram_path = '../input/embeddings/paragram_300_sl999/paragram_300_sl999.txt'\n",
    "embeddings_index = loadEmbeddings(paragram_path, EMBEDDING_DIM, encoding='utf8', errors='ignore')\n",
    "check_coverage(vocab, embeddings_index)\n",
    "embedding_matrix = getEmbeddingMatrix(embeddings_index, word_index)\n",
    "del embeddings_index\n",
    "gc.collect()\n",
    "np.save('paragram.npy', embedding_matrix)"
   ]
  },
  {
   "cell_type": "code",
   "execution_count": 33,
   "metadata": {
    "_uuid": "79b0a76992718f29aec733bec9f59beb85302a31",
    "colab": {
     "base_uri": "https://localhost:8080/",
     "height": 34
    },
    "colab_type": "code",
    "id": "YfAhNjEJEXmN",
    "outputId": "58618a30-4fab-44f0-8dec-591a8df2da47"
   },
   "outputs": [
    {
     "name": "stdout",
     "output_type": "stream",
     "text": [
      "wiki:\n",
      "Loading embeddings from: ../input/embeddings/wiki-news-300d-1M/wiki-news-300d-1M.vec\n",
      "Found 999994 word vectors.\n",
      "Found embeddings for 48.05% of vocab\n",
      "Found embeddings for  98.81% of all text\n"
     ]
    }
   ],
   "source": [
    "print('wiki:')\n",
    "wiki_path = '../input/embeddings/wiki-news-300d-1M/wiki-news-300d-1M.vec'\n",
    "embeddings_index = loadEmbeddings(wiki_path, EMBEDDING_DIM)\n",
    "check_coverage(vocab, embeddings_index)\n",
    "embedding_matrix = getEmbeddingMatrix(embeddings_index, word_index)\n",
    "del embeddings_index\n",
    "gc.collect()\n",
    "np.save('wiki.npy', embedding_matrix)"
   ]
  },
  {
   "cell_type": "code",
   "execution_count": 34,
   "metadata": {
    "_uuid": "c1ec208ac42fbf73e8213442f1333cbf18791a16"
   },
   "outputs": [
    {
     "name": "stdout",
     "output_type": "stream",
     "text": [
      "google_news:\n",
      "Loading embeddings from: ../input/embeddings/GoogleNews-vectors-negative300/GoogleNews-vectors-negative300.bin\n",
      "Found 3000000 word vectors.\n",
      "Found embeddings for 38.68% of vocab\n",
      "Found embeddings for  78.84% of all text\n"
     ]
    }
   ],
   "source": [
    "print('google_news:')\n",
    "google_news_path = '../input/embeddings/GoogleNews-vectors-negative300/GoogleNews-vectors-negative300.bin'\n",
    "embeddings_index = loadEmbeddingsGensim(google_news_path, EMBEDDING_DIM)\n",
    "check_coverage(vocab, embeddings_index)\n",
    "embedding_matrix = getEmbeddingMatrix(embeddings_index, word_index)\n",
    "del embeddings_index\n",
    "gc.collect()\n",
    "np.save('google_news.npy', embedding_matrix)"
   ]
  },
  {
   "cell_type": "code",
   "execution_count": 35,
   "metadata": {
    "_uuid": "7711de071093e6c256b2e8bf68fe64e9436ba0e2"
   },
   "outputs": [
    {
     "data": {
      "text/plain": [
       "0"
      ]
     },
     "execution_count": 35,
     "metadata": {},
     "output_type": "execute_result"
    }
   ],
   "source": [
    "del word_index\n",
    "del vocab\n",
    "gc.collect()"
   ]
  },
  {
   "cell_type": "markdown",
   "metadata": {
    "_uuid": "380e34c9a8b4a797b10cb54e15760a9dd7b28ae0",
    "colab_type": "text",
    "id": "BUSd8dmWEUf4"
   },
   "source": [
    "# Oversample training data"
   ]
  },
  {
   "cell_type": "code",
   "execution_count": 36,
   "metadata": {
    "_uuid": "47c26457a2b8c17015bf5c5c60cbb562fe199429"
   },
   "outputs": [
    {
     "data": {
      "text/plain": [
       "'\\nfrom imblearn.over_sampling import SMOTE\\n\\nsm = SMOTE(random_state=42, ratio = 1.0)\\nX_train, y_train = sm.fit_sample(X_train, y_train)\\n'"
      ]
     },
     "execution_count": 36,
     "metadata": {},
     "output_type": "execute_result"
    }
   ],
   "source": [
    "'''\n",
    "from imblearn.over_sampling import SMOTE\n",
    "\n",
    "sm = SMOTE(random_state=42, ratio = 1.0)\n",
    "X_train, y_train = sm.fit_sample(X_train, y_train)\n",
    "'''\n"
   ]
  },
  {
   "cell_type": "code",
   "execution_count": 37,
   "metadata": {
    "_uuid": "f28b53680bc8874337b09a61887d6c74da683659"
   },
   "outputs": [
    {
     "data": {
      "text/plain": [
       "\"\\nbalanced_train_df = pd.DataFrame()\\nbalanced_train_df[0] = np.array(y_train)\\n\\ntarget_ratios = balanced_train_df[0].value_counts(normalize=True)\\n\\nprint(target_ratios)\\n\\ntarget_ratios.plot(kind='bar', title='Ratios after SMOTE (target)')\\n\""
      ]
     },
     "execution_count": 37,
     "metadata": {},
     "output_type": "execute_result"
    }
   ],
   "source": [
    "'''\n",
    "balanced_train_df = pd.DataFrame()\n",
    "balanced_train_df[0] = np.array(y_train)\n",
    "\n",
    "target_ratios = balanced_train_df[0].value_counts(normalize=True)\n",
    "\n",
    "print(target_ratios)\n",
    "\n",
    "target_ratios.plot(kind='bar', title='Ratios after SMOTE (target)')\n",
    "'''"
   ]
  },
  {
   "cell_type": "markdown",
   "metadata": {
    "_uuid": "fab17b9cec7b6c69d9b96bfc5731882a1216d788",
    "colab_type": "text",
    "id": "aNd1KcNjsvxj"
   },
   "source": [
    "# Setup model"
   ]
  },
  {
   "cell_type": "markdown",
   "metadata": {
    "colab_type": "text",
    "id": "aNd1KcNjsvxj"
   },
   "source": [
    "# Restore point"
   ]
  },
  {
   "cell_type": "code",
   "execution_count": 38,
   "metadata": {},
   "outputs": [
    {
     "name": "stdout",
     "output_type": "stream",
     "text": [
      "CPU times: user 68 ms, sys: 208 ms, total: 276 ms\n",
      "Wall time: 1.56 s\n"
     ]
    }
   ],
   "source": [
    "%%time\n",
    "\n",
    "import numpy as np\n",
    "import pandas as pd\n",
    "import pickle\n",
    "\n",
    "test_df = pd.read_pickle('test_df.pkl')\n",
    "\n",
    "X_train = np.load('X_train.npy')\n",
    "X_test = np.load('X_test.npy')\n",
    "y_train = pd.read_pickle('y_train.pkl')\n"
   ]
  },
  {
   "cell_type": "markdown",
   "metadata": {
    "_uuid": "d45a12e7532c1ff87d68b626baada8a5bbe6b0fe",
    "colab_type": "text",
    "id": "BUSd8dmWEUf4"
   },
   "source": [
    "## Embeddings Layers"
   ]
  },
  {
   "cell_type": "code",
   "execution_count": 39,
   "metadata": {
    "_uuid": "48576619ba4f1847df5ea12bdd11b24b3920b25d"
   },
   "outputs": [],
   "source": [
    "from keras.layers import Embedding\n",
    "\n",
    "embedding_layers = {}\n",
    "\n",
    "embedding_matrix = np.load('glove.npy')\n",
    "embedding_layers['glove'] = Embedding(MAX_WORDS, EMBEDDING_DIM, weights=[embedding_matrix], input_length=MAX_SEQUENCE_LENGTH, trainable=False)\n",
    "\n",
    "embedding_matrix = np.load('paragram.npy')\n",
    "embedding_layers['paragram'] = Embedding(MAX_WORDS, EMBEDDING_DIM, weights=[embedding_matrix], input_length=MAX_SEQUENCE_LENGTH, trainable=False)\n",
    "\n",
    "embedding_matrix = np.load('wiki.npy')\n",
    "embedding_layers['wiki'] = Embedding(MAX_WORDS, EMBEDDING_DIM, weights=[embedding_matrix], input_length=MAX_SEQUENCE_LENGTH, trainable=False)\n",
    "\n",
    "embedding_matrix = np.load('google_news.npy')\n",
    "embedding_layers['google_news'] = Embedding(MAX_WORDS, EMBEDDING_DIM, weights=[embedding_matrix], input_length=MAX_SEQUENCE_LENGTH, trainable=False)"
   ]
  },
  {
   "cell_type": "markdown",
   "metadata": {
    "_uuid": "60a8b6ecb457fff127b4f7db954c42c63fa68b76",
    "colab_type": "text",
    "id": "BUSd8dmWEUf4"
   },
   "source": [
    "## NN: Bidirectional GRU per embedding with concactenation"
   ]
  },
  {
   "cell_type": "code",
   "execution_count": 40,
   "metadata": {
    "_uuid": "2d9a7a2733cee240d25312c05c08d41e0d6c4976"
   },
   "outputs": [
    {
     "name": "stdout",
     "output_type": "stream",
     "text": [
      "__________________________________________________________________________________________________\n",
      "Layer (type)                    Output Shape         Param #     Connected to                     \n",
      "==================================================================================================\n",
      "input_1 (InputLayer)            (None, 70)           0                                            \n",
      "__________________________________________________________________________________________________\n",
      "embedding_1 (Embedding)         (None, 70, 300)      12000000    input_1[0][0]                    \n",
      "__________________________________________________________________________________________________\n",
      "embedding_2 (Embedding)         (None, 70, 300)      12000000    input_1[0][0]                    \n",
      "__________________________________________________________________________________________________\n",
      "embedding_3 (Embedding)         (None, 70, 300)      12000000    input_1[0][0]                    \n",
      "__________________________________________________________________________________________________\n",
      "embedding_4 (Embedding)         (None, 70, 300)      12000000    input_1[0][0]                    \n",
      "__________________________________________________________________________________________________\n",
      "bidirectional_1 (Bidirectional) (None, 70, 128)      140544      embedding_1[0][0]                \n",
      "__________________________________________________________________________________________________\n",
      "bidirectional_2 (Bidirectional) (None, 70, 128)      140544      embedding_2[0][0]                \n",
      "__________________________________________________________________________________________________\n",
      "bidirectional_3 (Bidirectional) (None, 70, 128)      140544      embedding_3[0][0]                \n",
      "__________________________________________________________________________________________________\n",
      "bidirectional_4 (Bidirectional) (None, 70, 128)      140544      embedding_4[0][0]                \n",
      "__________________________________________________________________________________________________\n",
      "batch_normalization_1 (BatchNor (None, 70, 128)      512         bidirectional_1[0][0]            \n",
      "__________________________________________________________________________________________________\n",
      "batch_normalization_3 (BatchNor (None, 70, 128)      512         bidirectional_2[0][0]            \n",
      "__________________________________________________________________________________________________\n",
      "batch_normalization_5 (BatchNor (None, 70, 128)      512         bidirectional_3[0][0]            \n",
      "__________________________________________________________________________________________________\n",
      "batch_normalization_7 (BatchNor (None, 70, 128)      512         bidirectional_4[0][0]            \n",
      "__________________________________________________________________________________________________\n",
      "global_max_pooling1d_1 (GlobalM (None, 128)          0           batch_normalization_1[0][0]      \n",
      "__________________________________________________________________________________________________\n",
      "global_max_pooling1d_2 (GlobalM (None, 128)          0           batch_normalization_3[0][0]      \n",
      "__________________________________________________________________________________________________\n",
      "global_max_pooling1d_3 (GlobalM (None, 128)          0           batch_normalization_5[0][0]      \n",
      "__________________________________________________________________________________________________\n",
      "global_max_pooling1d_4 (GlobalM (None, 128)          0           batch_normalization_7[0][0]      \n",
      "__________________________________________________________________________________________________\n",
      "dense_1 (Dense)                 (None, 16)           2048        global_max_pooling1d_1[0][0]     \n",
      "__________________________________________________________________________________________________\n",
      "dense_2 (Dense)                 (None, 16)           2048        global_max_pooling1d_2[0][0]     \n",
      "__________________________________________________________________________________________________\n",
      "dense_3 (Dense)                 (None, 16)           2048        global_max_pooling1d_3[0][0]     \n",
      "__________________________________________________________________________________________________\n",
      "dense_4 (Dense)                 (None, 16)           2048        global_max_pooling1d_4[0][0]     \n",
      "__________________________________________________________________________________________________\n",
      "batch_normalization_2 (BatchNor (None, 16)           64          dense_1[0][0]                    \n",
      "__________________________________________________________________________________________________\n",
      "batch_normalization_4 (BatchNor (None, 16)           64          dense_2[0][0]                    \n",
      "__________________________________________________________________________________________________\n",
      "batch_normalization_6 (BatchNor (None, 16)           64          dense_3[0][0]                    \n",
      "__________________________________________________________________________________________________\n",
      "batch_normalization_8 (BatchNor (None, 16)           64          dense_4[0][0]                    \n",
      "__________________________________________________________________________________________________\n",
      "activation_1 (Activation)       (None, 16)           0           batch_normalization_2[0][0]      \n",
      "__________________________________________________________________________________________________\n",
      "activation_2 (Activation)       (None, 16)           0           batch_normalization_4[0][0]      \n",
      "__________________________________________________________________________________________________\n",
      "activation_3 (Activation)       (None, 16)           0           batch_normalization_6[0][0]      \n",
      "__________________________________________________________________________________________________\n",
      "activation_4 (Activation)       (None, 16)           0           batch_normalization_8[0][0]      \n",
      "__________________________________________________________________________________________________\n",
      "dropout_1 (Dropout)             (None, 16)           0           activation_1[0][0]               \n",
      "__________________________________________________________________________________________________\n",
      "dropout_2 (Dropout)             (None, 16)           0           activation_2[0][0]               \n",
      "__________________________________________________________________________________________________\n",
      "dropout_3 (Dropout)             (None, 16)           0           activation_3[0][0]               \n",
      "__________________________________________________________________________________________________\n",
      "dropout_4 (Dropout)             (None, 16)           0           activation_4[0][0]               \n",
      "__________________________________________________________________________________________________\n",
      "concatenate_1 (Concatenate)     (None, 64)           0           dropout_1[0][0]                  \n",
      "                                                                 dropout_2[0][0]                  \n",
      "                                                                 dropout_3[0][0]                  \n",
      "                                                                 dropout_4[0][0]                  \n",
      "__________________________________________________________________________________________________\n",
      "dense_5 (Dense)                 (None, 32)           2048        concatenate_1[0][0]              \n",
      "__________________________________________________________________________________________________\n",
      "batch_normalization_9 (BatchNor (None, 32)           128         dense_5[0][0]                    \n",
      "__________________________________________________________________________________________________\n",
      "activation_5 (Activation)       (None, 32)           0           batch_normalization_9[0][0]      \n",
      "__________________________________________________________________________________________________\n",
      "dropout_5 (Dropout)             (None, 32)           0           activation_5[0][0]               \n",
      "__________________________________________________________________________________________________\n",
      "dense_6 (Dense)                 (None, 1)            32          dropout_5[0][0]                  \n",
      "__________________________________________________________________________________________________\n",
      "batch_normalization_10 (BatchNo (None, 1)            4           dense_6[0][0]                    \n",
      "__________________________________________________________________________________________________\n",
      "activation_6 (Activation)       (None, 1)            0           batch_normalization_10[0][0]     \n",
      "==================================================================================================\n",
      "Total params: 48,574,884\n",
      "Trainable params: 573,666\n",
      "Non-trainable params: 48,001,218\n",
      "__________________________________________________________________________________________________\n",
      "None\n",
      "CPU times: user 11.2 s, sys: 2.68 s, total: 13.9 s\n",
      "Wall time: 13.5 s\n"
     ]
    }
   ],
   "source": [
    "%%time \n",
    "\n",
    "from keras.layers import Dense, Dropout, Input, GlobalMaxPool1D\n",
    "from keras.layers import Conv1D, MaxPooling1D, Embedding, Bidirectional\n",
    "from keras.layers import Activation, BatchNormalization, CuDNNGRU\n",
    "from keras.layers import SpatialDropout1D, Concatenate, Flatten, Reshape\n",
    "from keras.regularizers import l2\n",
    "from keras.models import Model\n",
    "\n",
    "\n",
    "inp = Input(shape=(MAX_SEQUENCE_LENGTH,), dtype='int32')\n",
    "\n",
    "a = embedding_layers['glove'] (inp)\n",
    "a = Bidirectional(CuDNNGRU(64, return_sequences=True))(a)\n",
    "a = BatchNormalization()(a)\n",
    "a = GlobalMaxPool1D()(a)\n",
    "a = Dense(16, kernel_regularizer=l2(0.01), use_bias=False)(a)\n",
    "a = BatchNormalization()(a)\n",
    "a = Activation(\"relu\")(a)\n",
    "a = Dropout(0.2)(a)\n",
    "\n",
    "b = embedding_layers['paragram'] (inp)\n",
    "b = Bidirectional(CuDNNGRU(64, return_sequences=True))(b)\n",
    "b = BatchNormalization()(b)\n",
    "b = GlobalMaxPool1D()(b)\n",
    "b = Dense(16, kernel_regularizer=l2(0.01), use_bias=False)(b)\n",
    "b = BatchNormalization()(b)\n",
    "b = Activation(\"relu\")(b)\n",
    "b = Dropout(0.2)(b)\n",
    "\n",
    "c = embedding_layers['wiki'] (inp)\n",
    "c = Bidirectional(CuDNNGRU(64, return_sequences=True))(c)\n",
    "c = BatchNormalization()(c)\n",
    "c = GlobalMaxPool1D()(c)\n",
    "c = Dense(16, kernel_regularizer=l2(0.01), use_bias=False)(c)\n",
    "c = BatchNormalization()(c)\n",
    "c = Activation(\"relu\")(c)\n",
    "c = Dropout(0.2)(c)\n",
    "\n",
    "d = embedding_layers['google_news'] (inp)\n",
    "d = Bidirectional(CuDNNGRU(64, return_sequences=True))(d)\n",
    "d = BatchNormalization()(d)\n",
    "d = GlobalMaxPool1D()(d)\n",
    "d = Dense(16, kernel_regularizer=l2(0.01), use_bias=False)(d)\n",
    "d = BatchNormalization()(d)\n",
    "d = Activation(\"relu\")(d)\n",
    "d = Dropout(0.2)(d)\n",
    "\n",
    "x = Concatenate(axis=1)([a, b, c, d])\n",
    "x = Dense(32, kernel_regularizer=l2(0.01), use_bias=False)(x)\n",
    "x = BatchNormalization()(x)\n",
    "x = Activation(\"relu\")(x)\n",
    "x = Dropout(0.2)(x)\n",
    "x = Dense(1, use_bias=False)(x)\n",
    "x = BatchNormalization()(x)\n",
    "out = Activation(\"sigmoid\")(x)\n",
    "\n",
    "model = Model(inp, out)\n",
    "\n",
    "print(model.summary())"
   ]
  },
  {
   "cell_type": "code",
   "execution_count": 41,
   "metadata": {},
   "outputs": [],
   "source": [
    "from keras import backend as K\n",
    "\n",
    "\n",
    "def recall(y_true, y_pred):\n",
    "    true_positives = K.sum(K.round(K.clip(y_true * y_pred, 0, 1)))\n",
    "    possible_positives = K.sum(K.round(K.clip(y_true, 0, 1)))\n",
    "    recall = true_positives / (possible_positives + K.epsilon())\n",
    "    return recall\n",
    "\n",
    "def precision(y_true, y_pred):\n",
    "    true_positives = K.sum(K.round(K.clip(y_true * y_pred, 0, 1)))\n",
    "    predicted_positives = K.sum(K.round(K.clip(y_pred, 0, 1)))\n",
    "    precision = true_positives / (predicted_positives + K.epsilon())\n",
    "    return precision\n",
    " \n",
    "def f1(y_true, y_pred):\n",
    "    p = precision(y_true, y_pred)\n",
    "    r = recall(y_true, y_pred)\n",
    "    return 2*((p*r)/(p+r+K.epsilon()))"
   ]
  },
  {
   "cell_type": "markdown",
   "metadata": {
    "_uuid": "74e7edd06d9d1ef89f4369021b8ce094be9e21db",
    "colab_type": "text",
    "id": "Lp4o2h9Fs8gP"
   },
   "source": [
    "# Compile the model"
   ]
  },
  {
   "cell_type": "code",
   "execution_count": 42,
   "metadata": {
    "_uuid": "fafbbea8029e31d17a3f731639bbc62970e4e1b0",
    "colab": {},
    "colab_type": "code",
    "id": "L75Rc0Gqtclm"
   },
   "outputs": [],
   "source": [
    "from keras.optimizers import Adam\n",
    "\n",
    "model.compile(loss='binary_crossentropy',\n",
    "              optimizer='Adam',\n",
    "              metrics=['accuracy', f1, recall, precision])"
   ]
  },
  {
   "cell_type": "markdown",
   "metadata": {
    "colab_type": "text",
    "id": "NVFKqCPUtJcy"
   },
   "source": [
    "# serialize model"
   ]
  },
  {
   "cell_type": "code",
   "execution_count": 43,
   "metadata": {},
   "outputs": [
    {
     "name": "stdout",
     "output_type": "stream",
     "text": [
      "Saved model to disk\n"
     ]
    }
   ],
   "source": [
    "model.save('model.h5')\n",
    "print(\"Saved model to disk\")"
   ]
  },
  {
   "cell_type": "markdown",
   "metadata": {
    "colab_type": "text",
    "id": "aNd1KcNjsvxj"
   },
   "source": [
    "# Setup f1-score, precision and recall metrics"
   ]
  },
  {
   "cell_type": "code",
   "execution_count": 44,
   "metadata": {},
   "outputs": [
    {
     "data": {
      "text/plain": [
       "'\\nfrom keras.callbacks import Callback\\nfrom sklearn.metrics import confusion_matrix, f1_score, precision_score, recall_score, precision_recall_fscore_support\\n\\nclass Metrics(Callback):\\n\\n\\n    def on_train_begin(self, logs={}):\\n        self.val_f1s = []\\n        self.val_recalls = []\\n        self.val_precisions = []\\n \\n\\n    def on_epoch_end(self, epoch, logs={}):\\n        val_predict = (np.asarray(self.model.predict(self.validation_data[0]))).round()\\n        val_targ = self.validation_data[1]\\n        _val_precision, _val_recall, _val_f1, _ = precision_recall_fscore_support(val_targ, val_predict, average=\\'binary\\')\\n        self.val_f1s.append(_val_f1)\\n        self.val_recalls.append(_val_recall)\\n        self.val_precisions.append(_val_precision)\\n        print(\" — val_f1: %f — val_precision: %f — val_recall: %f\" %(_val_f1, _val_precision, _val_recall))\\n        return\\n\\nmetrics = Metrics()\\n'"
      ]
     },
     "execution_count": 44,
     "metadata": {},
     "output_type": "execute_result"
    }
   ],
   "source": [
    "'''\n",
    "from keras.callbacks import Callback\n",
    "from sklearn.metrics import confusion_matrix, f1_score, precision_score, recall_score, precision_recall_fscore_support\n",
    "\n",
    "class Metrics(Callback):\n",
    "\n",
    "\n",
    "    def on_train_begin(self, logs={}):\n",
    "        self.val_f1s = []\n",
    "        self.val_recalls = []\n",
    "        self.val_precisions = []\n",
    " \n",
    "\n",
    "    def on_epoch_end(self, epoch, logs={}):\n",
    "        val_predict = (np.asarray(self.model.predict(self.validation_data[0]))).round()\n",
    "        val_targ = self.validation_data[1]\n",
    "        _val_precision, _val_recall, _val_f1, _ = precision_recall_fscore_support(val_targ, val_predict, average='binary')\n",
    "        self.val_f1s.append(_val_f1)\n",
    "        self.val_recalls.append(_val_recall)\n",
    "        self.val_precisions.append(_val_precision)\n",
    "        print(\" — val_f1: %f — val_precision: %f — val_recall: %f\" %(_val_f1, _val_precision, _val_recall))\n",
    "        return\n",
    "\n",
    "metrics = Metrics()\n",
    "'''"
   ]
  },
  {
   "cell_type": "markdown",
   "metadata": {
    "colab_type": "text",
    "id": "NVFKqCPUtJcy"
   },
   "source": [
    "# Compute Class Weights\n",
    "\n",
    "Since there is a significant target inbalance."
   ]
  },
  {
   "cell_type": "code",
   "execution_count": 45,
   "metadata": {},
   "outputs": [
    {
     "name": "stdout",
     "output_type": "stream",
     "text": [
      "[0.53297527 8.08143794]\n"
     ]
    }
   ],
   "source": [
    "from sklearn.utils import class_weight\n",
    "\n",
    "class_weights = class_weight.compute_class_weight('balanced', np.unique(y_train), y_train)\n",
    "\n",
    "print (class_weights)"
   ]
  },
  {
   "cell_type": "markdown",
   "metadata": {
    "_uuid": "21e24633c2528b71fc434bf528f7b29fbed63f25",
    "colab_type": "text",
    "id": "QIn-67cmvDFk"
   },
   "source": [
    "## Split train/validation"
   ]
  },
  {
   "cell_type": "code",
   "execution_count": 46,
   "metadata": {
    "_uuid": "3a4e4292f236ac2a779968bb38239e61e5f48eab"
   },
   "outputs": [
    {
     "name": "stderr",
     "output_type": "stream",
     "text": [
      "/usr/local/lib/python3.5/site-packages/sklearn/model_selection/_split.py:2026: FutureWarning: From version 0.21, test_size will always complement train_size unless both are specified.\n",
      "  FutureWarning)\n"
     ]
    }
   ],
   "source": [
    "from sklearn.model_selection import train_test_split\n",
    "\n",
    "X_train, X_val, y_train, y_val = train_test_split(X_train, y_train, train_size=0.8,\n",
    "                                              random_state=233, shuffle=True)"
   ]
  },
  {
   "cell_type": "code",
   "execution_count": 47,
   "metadata": {},
   "outputs": [],
   "source": [
    "from keras.callbacks import EarlyStopping\n",
    "\n",
    "earlyStopping = EarlyStopping(monitor='val_f1',\n",
    "                      min_delta=0,\n",
    "                      patience=12,\n",
    "                      verbose=1, mode='max',\n",
    "                      restore_best_weights=True\n",
    "                )"
   ]
  },
  {
   "cell_type": "markdown",
   "metadata": {
    "_uuid": "1d1c4d092bca6f093254b5792c4b8801c1282b0f",
    "colab_type": "text",
    "id": "NVFKqCPUtJcy"
   },
   "source": [
    "# Train the model\n",
    "\n",
    "Use model checkpointing to save the model that attains the best validation loss."
   ]
  },
  {
   "cell_type": "code",
   "execution_count": null,
   "metadata": {
    "_uuid": "2db478168d542638ce5cb6358de7ebd503d000b0",
    "colab": {
     "base_uri": "https://localhost:8080/",
     "height": 68
    },
    "colab_type": "code",
    "id": "3OwX8ErsteZL",
    "outputId": "f718108c-5f78-4d9b-8814-c7044a9cce96"
   },
   "outputs": [
    {
     "name": "stdout",
     "output_type": "stream",
     "text": [
      "Train on 1044897 samples, validate on 261225 samples\n",
      "Epoch 1/20\n",
      "1044897/1044897 [==============================] - 268s 256us/step - loss: 0.3055 - acc: 0.9407 - f1: 0.5867 - recall: 0.6426 - precision: 0.5880 - val_loss: 0.2455 - val_acc: 0.9267 - val_f1: 0.5861 - val_recall: 0.8581 - val_precision: 0.4510\n",
      "Epoch 2/20\n",
      "1044897/1044897 [==============================] - 261s 250us/step - loss: 0.1223 - acc: 0.9569 - f1: 0.5955 - recall: 0.5285 - precision: 0.7096 - val_loss: 0.1349 - val_acc: 0.9567 - val_f1: 0.6607 - val_recall: 0.7045 - val_precision: 0.6345\n",
      "Epoch 3/20\n",
      "1044736/1044897 [============================>.] - ETA: 0s - loss: 0.1076 - acc: 0.9588 - f1: 0.6179 - recall: 0.5557 - precision: 0.7242"
     ]
    }
   ],
   "source": [
    "%%time\n",
    "\n",
    "hist = model.fit(X_train, y_train, validation_data=(X_val, y_val), callbacks=[earlyStopping], class_weight=class_weights, epochs=20, batch_size=256)\n"
   ]
  },
  {
   "cell_type": "markdown",
   "metadata": {
    "_uuid": "926710a7b8364a65a6ea5bdb8f103462b622549c",
    "colab_type": "text",
    "id": "NVFKqCPUtJcy"
   },
   "source": [
    "# Predict validation labels"
   ]
  },
  {
   "cell_type": "code",
   "execution_count": 51,
   "metadata": {
    "_uuid": "80dbd1aae9b5ec74071b7a11de96abee7cd2ad66"
   },
   "outputs": [
    {
     "name": "stdout",
     "output_type": "stream",
     "text": [
      "261225/261225 [==============================] - 9s 36us/step\n",
      "CPU times: user 9 s, sys: 1.77 s, total: 10.8 s\n",
      "Wall time: 9.35 s\n"
     ]
    }
   ],
   "source": [
    "%%time\n",
    "\n",
    "pred_val = model.predict([X_val], batch_size=1024, verbose=1)"
   ]
  },
  {
   "cell_type": "markdown",
   "metadata": {
    "_uuid": "fbe1a9626a625a4540b35fe646af0d78e8952b24",
    "colab_type": "text",
    "id": "NVFKqCPUtJcy"
   },
   "source": [
    "# Find optimal threshold"
   ]
  },
  {
   "cell_type": "code",
   "execution_count": 53,
   "metadata": {
    "_uuid": "c5861eb15765c20d4a5be5892543520bdb006bfa"
   },
   "outputs": [
    {
     "name": "stdout",
     "output_type": "stream",
     "text": [
      "Current threshold is 0.1000 with F1 score: 0.3987, Recall score: 0.9601, Precision score: 0.2516\n",
      "Current threshold is 0.1100 with F1 score: 0.4163, Recall score: 0.9545, Precision score: 0.2662\n",
      "Current threshold is 0.1200 with F1 score: 0.4333, Recall score: 0.9506, Precision score: 0.2806\n",
      "Current threshold is 0.1300 with F1 score: 0.4493, Recall score: 0.9459, Precision score: 0.2946\n",
      "Current threshold is 0.1400 with F1 score: 0.4644, Recall score: 0.9410, Precision score: 0.3082\n",
      "Current threshold is 0.1500 with F1 score: 0.4789, Recall score: 0.9355, Precision score: 0.3218\n",
      "Current threshold is 0.1600 with F1 score: 0.4940, Recall score: 0.9307, Precision score: 0.3362\n",
      "Current threshold is 0.1700 with F1 score: 0.5075, Recall score: 0.9255, Precision score: 0.3496\n",
      "Current threshold is 0.1800 with F1 score: 0.5202, Recall score: 0.9203, Precision score: 0.3626\n",
      "Current threshold is 0.1900 with F1 score: 0.5319, Recall score: 0.9149, Precision score: 0.3749\n",
      "Current threshold is 0.2000 with F1 score: 0.5430, Recall score: 0.9104, Precision score: 0.3869\n",
      "Current threshold is 0.2100 with F1 score: 0.5541, Recall score: 0.9050, Precision score: 0.3993\n",
      "Current threshold is 0.2200 with F1 score: 0.5633, Recall score: 0.8996, Precision score: 0.4100\n",
      "Current threshold is 0.2300 with F1 score: 0.5715, Recall score: 0.8938, Precision score: 0.4200\n",
      "Current threshold is 0.2400 with F1 score: 0.5797, Recall score: 0.8883, Precision score: 0.4303\n",
      "Current threshold is 0.2500 with F1 score: 0.5881, Recall score: 0.8821, Precision score: 0.4411\n",
      "Current threshold is 0.2600 with F1 score: 0.5961, Recall score: 0.8768, Precision score: 0.4516\n",
      "Current threshold is 0.2700 with F1 score: 0.6026, Recall score: 0.8697, Precision score: 0.4610\n",
      "Current threshold is 0.2800 with F1 score: 0.6096, Recall score: 0.8642, Precision score: 0.4709\n",
      "Current threshold is 0.2900 with F1 score: 0.6157, Recall score: 0.8581, Precision score: 0.4801\n",
      "Current threshold is 0.3000 with F1 score: 0.6214, Recall score: 0.8525, Precision score: 0.4889\n",
      "Current threshold is 0.3100 with F1 score: 0.6269, Recall score: 0.8464, Precision score: 0.4978\n",
      "Current threshold is 0.3200 with F1 score: 0.6313, Recall score: 0.8396, Precision score: 0.5058\n",
      "Current threshold is 0.3300 with F1 score: 0.6354, Recall score: 0.8334, Precision score: 0.5135\n",
      "Current threshold is 0.3400 with F1 score: 0.6401, Recall score: 0.8270, Precision score: 0.5221\n",
      "Current threshold is 0.3500 with F1 score: 0.6440, Recall score: 0.8210, Precision score: 0.5298\n",
      "Current threshold is 0.3600 with F1 score: 0.6474, Recall score: 0.8139, Precision score: 0.5374\n",
      "Current threshold is 0.3700 with F1 score: 0.6507, Recall score: 0.8075, Precision score: 0.5448\n",
      "Current threshold is 0.3800 with F1 score: 0.6532, Recall score: 0.7997, Precision score: 0.5520\n",
      "Current threshold is 0.3900 with F1 score: 0.6552, Recall score: 0.7917, Precision score: 0.5589\n",
      "Current threshold is 0.4000 with F1 score: 0.6577, Recall score: 0.7844, Precision score: 0.5663\n",
      "Current threshold is 0.4100 with F1 score: 0.6601, Recall score: 0.7776, Precision score: 0.5735\n",
      "Current threshold is 0.4200 with F1 score: 0.6621, Recall score: 0.7700, Precision score: 0.5806\n",
      "Current threshold is 0.4300 with F1 score: 0.6647, Recall score: 0.7629, Precision score: 0.5889\n",
      "Current threshold is 0.4400 with F1 score: 0.6653, Recall score: 0.7545, Precision score: 0.5950\n",
      "Current threshold is 0.4500 with F1 score: 0.6662, Recall score: 0.7467, Precision score: 0.6015\n",
      "Current threshold is 0.4600 with F1 score: 0.6680, Recall score: 0.7393, Precision score: 0.6092\n",
      "Current threshold is 0.4700 with F1 score: 0.6688, Recall score: 0.7314, Precision score: 0.6160\n",
      "Current threshold is 0.4800 with F1 score: 0.6687, Recall score: 0.7224, Precision score: 0.6224\n",
      "Current threshold is 0.4900 with F1 score: 0.6688, Recall score: 0.7137, Precision score: 0.6291\n",
      "Current threshold is 0.5000 with F1 score: 0.6688, Recall score: 0.7052, Precision score: 0.6360\n",
      "optimal threshold is 0.5000 with F1 score: 0.6688\n"
     ]
    }
   ],
   "source": [
    "from sklearn.metrics import f1_score, precision_score, recall_score\n",
    "\n",
    "def optimalThreshold(y_true,y_pred):\n",
    "    idx = 0\n",
    "    cur_f1 = 0\n",
    "    cur_prec = 0\n",
    "    cur_recall = 0\n",
    "    max_f1 = 0\n",
    "    thres = 0\n",
    "    for idx in np.arange(0.1, 0.501, 0.01):\n",
    "        cur_f1 = f1_score(y_true, np.array(y_pred)> idx)\n",
    "        cur_recall = recall_score(y_true, np.array(y_pred)> idx)\n",
    "        cur_prec = precision_score(y_true, np.array(y_pred)> idx)\n",
    "        print('Current threshold is {:.4f} with F1 score: {:.4f}, Recall score: {:.4f}, Precision score: {:.4f}'\n",
    "              .format(idx, cur_f1, cur_recall, cur_prec)\n",
    "             )\n",
    "        if cur_f1 > max_f1:\n",
    "            max_f1 = cur_f1\n",
    "            thres = idx\n",
    "    print('optimal threshold is {:.4f} with F1 score: {:.4f}'.format(thres, max_f1))\n",
    "    return thres\n",
    "threshold = optimalThreshold(y_val,pred_val)"
   ]
  },
  {
   "cell_type": "code",
   "execution_count": 55,
   "metadata": {},
   "outputs": [
    {
     "name": "stdout",
     "output_type": "stream",
     "text": [
      "             precision    recall  f1-score   support\n",
      "\n",
      "    sincere       0.98      0.97      0.98    245044\n",
      "  insincere       0.64      0.71      0.67     16181\n",
      "\n",
      "avg / total       0.96      0.96      0.96    261225\n",
      "\n"
     ]
    }
   ],
   "source": [
    "from sklearn.metrics import confusion_matrix, classification_report\n",
    "\n",
    "print(classification_report(y_val, np.array(pred_val > threshold).astype(int), target_names=['sincere', 'insincere']))\n"
   ]
  },
  {
   "cell_type": "code",
   "execution_count": 57,
   "metadata": {},
   "outputs": [
    {
     "data": {
      "text/plain": [
       "[Text(0, 0.5, 'sincere'), Text(0, 1.5, 'insincere')]"
      ]
     },
     "execution_count": 57,
     "metadata": {},
     "output_type": "execute_result"
    },
    {
     "data": {
      "image/png": "[encoded data removed]",
      "text/plain": [
       "<Figure size 432x288 with 1 Axes>"
      ]
     },
     "metadata": {},
     "output_type": "display_data"
    }
   ],
   "source": [
    "import seaborn as sns\n",
    "import matplotlib.pyplot as plt\n",
    "from matplotlib.colors import ListedColormap\n",
    "\n",
    "cm = confusion_matrix(y_val, np.array(pred_val > threshold).astype(int))\n",
    "ax = plt.subplot()\n",
    "hm = sns.heatmap(cm, annot=True, ax = ax, fmt='g', \n",
    "                 cmap=ListedColormap(['white']), linecolor='black', \n",
    "                 linewidth=1, cbar=False,\n",
    "                 xticklabels = 1, yticklabels = 1 )\n",
    "\n",
    "\n",
    "# labels, title and ticks\n",
    "ax.set_xlabel('Predicted labels')\n",
    "ax.set_ylabel('True labels') \n",
    "ax.set_title('Confusion Matrix')\n",
    "ax.xaxis.set_ticklabels(['sincere', 'insincere'])\n",
    "ax.yaxis.set_ticklabels(['sincere', 'insincere'])\n",
    "\n"
   ]
  },
  {
   "cell_type": "code",
   "execution_count": 59,
   "metadata": {
    "_uuid": "0ff585d4c11ae673051881795e74ff97d8d2b4c8"
   },
   "outputs": [
    {
     "data": {
      "image/png": "[encoded data removed]",
      "text/plain": [
       "<Figure size 864x576 with 1 Axes>"
      ]
     },
     "metadata": {},
     "output_type": "display_data"
    }
   ],
   "source": [
    "plt.figure(figsize=(12,8))\n",
    "plt.title('model accuracy')\n",
    "plt.plot(hist.history['acc'])\n",
    "plt.plot(hist.history['val_acc'])\n",
    "plt.ylabel('accuracy')\n",
    "plt.xlabel('epoch')\n",
    "plt.legend(['train', 'test'], loc='upper left')\n",
    "plt.show()"
   ]
  },
  {
   "cell_type": "code",
   "execution_count": null,
   "metadata": {},
   "outputs": [],
   "source": []
  },
  {
   "cell_type": "code",
   "execution_count": 61,
   "metadata": {
    "_uuid": "0ff585d4c11ae673051881795e74ff97d8d2b4c8"
   },
   "outputs": [
    {
     "data": {
      "image/png": "[encoded data removed]",
      "text/plain": [
       "<Figure size 864x576 with 1 Axes>"
      ]
     },
     "metadata": {},
     "output_type": "display_data"
    }
   ],
   "source": [
    "plt.figure(figsize=(12,8))\n",
    "plt.title('model loss')\n",
    "plt.plot(hist.history['loss'])\n",
    "plt.plot(hist.history['val_loss'])\n",
    "plt.ylabel('loss')\n",
    "plt.xlabel('epoch')\n",
    "plt.legend(['train', 'test'], loc='upper left')\n",
    "plt.show()"
   ]
  },
  {
   "cell_type": "code",
   "execution_count": 63,
   "metadata": {
    "_uuid": "0ff585d4c11ae673051881795e74ff97d8d2b4c8"
   },
   "outputs": [
    {
     "data": {
      "image/png": "[encoded data removed]",
      "text/plain": [
       "<Figure size 864x576 with 1 Axes>"
      ]
     },
     "metadata": {},
     "output_type": "display_data"
    }
   ],
   "source": [
    "plt.figure(figsize=(12,8))\n",
    "plt.title('model F1-score')\n",
    "plt.plot(hist.history['f1'])\n",
    "plt.plot(hist.history['val_f1'])\n",
    "plt.ylabel('f1 score')\n",
    "plt.xlabel('epoch')\n",
    "plt.legend(['train', 'test'], loc='upper left')\n",
    "plt.show()"
   ]
  },
  {
   "cell_type": "markdown",
   "metadata": {
    "colab_type": "text",
    "id": "NVFKqCPUtJcy"
   },
   "source": [
    "# serialize weights"
   ]
  },
  {
   "cell_type": "code",
   "execution_count": 65,
   "metadata": {},
   "outputs": [
    {
     "name": "stdout",
     "output_type": "stream",
     "text": [
      "Saved model weights to disk\n"
     ]
    }
   ],
   "source": [
    "model.save_weights(MODEL_VERSION + '.weights.h5')\n",
    "print(\"Saved model weights to disk\")"
   ]
  },
  {
   "cell_type": "markdown",
   "metadata": {
    "_uuid": "d377f47a86a67e1b60bf83efa2e85c08e87281dd",
    "colab_type": "text",
    "id": "NVFKqCPUtJcy"
   },
   "source": [
    "# Predict test labels"
   ]
  },
  {
   "cell_type": "code",
   "execution_count": 67,
   "metadata": {
    "_uuid": "0670f1a7c1ed5cfd85d049dfc0ef1681aaab055b"
   },
   "outputs": [
    {
     "name": "stdout",
     "output_type": "stream",
     "text": [
      "56370/56370 [==============================] - 2s 36us/step\n",
      "CPU times: user 2.02 s, sys: 284 ms, total: 2.3 s\n",
      "Wall time: 2.02 s\n"
     ]
    }
   ],
   "source": [
    "%%time\n",
    "\n",
    "pred_test = model.predict([X_test], batch_size=1024, verbose=1)"
   ]
  },
  {
   "cell_type": "markdown",
   "metadata": {
    "_uuid": "f3c1ff0ac4324bbf847ed3fdafe4db682d833f8a",
    "colab_type": "text",
    "id": "NVFKqCPUtJcy"
   },
   "source": [
    "# Prepare submission"
   ]
  },
  {
   "cell_type": "code",
   "execution_count": 69,
   "metadata": {
    "_uuid": "7f3601299112b7d1ea815db80243344ace06ca42"
   },
   "outputs": [],
   "source": [
    "submission_df = pd.DataFrame({\"qid\":test_df[\"qid\"].values})\n",
    "submission_df['prediction'] = (pred_test > threshold).astype(int)\n",
    "submission_df.to_csv(\"submission.csv\", index=False)"
   ]
  },
  {
   "cell_type": "markdown",
   "metadata": {
    "_uuid": "f3c1ff0ac4324bbf847ed3fdafe4db682d833f8a",
    "colab_type": "text",
    "id": "NVFKqCPUtJcy"
   },
   "source": [
    "# Validation analysis"
   ]
  },
  {
   "cell_type": "code",
   "execution_count": 85,
   "metadata": {},
   "outputs": [],
   "source": [
    "reverse_word_map = dict(map(reversed, tokenizer.word_index.items()))"
   ]
  },
  {
   "cell_type": "code",
   "execution_count": 74,
   "metadata": {},
   "outputs": [
    {
     "name": "stdout",
     "output_type": "stream",
     "text": [
      "0.4999999999999998\n"
     ]
    }
   ],
   "source": [
    "print(threshold)"
   ]
  },
  {
   "cell_type": "code",
   "execution_count": 234,
   "metadata": {},
   "outputs": [],
   "source": [
    "prediction_df = pd.DataFrame({\"target\": y_val})\n",
    "prediction_df['prediction'] = (pred_val > threshold).astype(int)\n",
    "prediction_df['pred_val'] =  pred_val\n",
    "prediction_df['question_text_rebuilt'] =  pd.Series(X_val.tolist()).map(lambda seqs: [reverse_word_map[seq] for seq in seqs if seq > 0]).str.join(\" \")"
   ]
  },
  {
   "cell_type": "code",
   "execution_count": 235,
   "metadata": {},
   "outputs": [
    {
     "data": {
      "text/html": [
       "<div>\n",
       "<style scoped>\n",
       "    .dataframe tbody tr th:only-of-type {\n",
       "        vertical-align: middle;\n",
       "    }\n",
       "\n",
       "    .dataframe tbody tr th {\n",
       "        vertical-align: top;\n",
       "    }\n",
       "\n",
       "    .dataframe thead th {\n",
       "        text-align: right;\n",
       "    }\n",
       "</style>\n",
       "<table border=\"1\" class=\"dataframe\">\n",
       "  <thead>\n",
       "    <tr style=\"text-align: right;\">\n",
       "      <th></th>\n",
       "      <th>target</th>\n",
       "      <th>prediction</th>\n",
       "      <th>pred_val</th>\n",
       "      <th>question_text_rebuilt</th>\n",
       "    </tr>\n",
       "  </thead>\n",
       "  <tbody>\n",
       "    <tr>\n",
       "      <th>185741</th>\n",
       "      <td>1</td>\n",
       "      <td>0</td>\n",
       "      <td>0.331036</td>\n",
       "      <td>how different would metrics regarding us quality of life be if hispanic and african americans were excluded from the calculations ?</td>\n",
       "    </tr>\n",
       "    <tr>\n",
       "      <th>90486</th>\n",
       "      <td>0</td>\n",
       "      <td>1</td>\n",
       "      <td>0.578600</td>\n",
       "      <td>will hindus ever have a country of their own official \" hindu \" country ?</td>\n",
       "    </tr>\n",
       "    <tr>\n",
       "      <th>143618</th>\n",
       "      <td>0</td>\n",
       "      <td>1</td>\n",
       "      <td>0.674987</td>\n",
       "      <td>are there a lot of closeted gays in the bronx ?</td>\n",
       "    </tr>\n",
       "    <tr>\n",
       "      <th>59502</th>\n",
       "      <td>1</td>\n",
       "      <td>0</td>\n",
       "      <td>0.047500</td>\n",
       "      <td>what is the function of charcoal mask blackhead remover mask ?</td>\n",
       "    </tr>\n",
       "    <tr>\n",
       "      <th>201966</th>\n",
       "      <td>1</td>\n",
       "      <td>0</td>\n",
       "      <td>0.246436</td>\n",
       "      <td>was the supposed prophet muhammad the first harvey weinstein in history ?</td>\n",
       "    </tr>\n",
       "    <tr>\n",
       "      <th>85411</th>\n",
       "      <td>0</td>\n",
       "      <td>1</td>\n",
       "      <td>0.804730</td>\n",
       "      <td>what is the difference between a slut &amp; a bitch ?</td>\n",
       "    </tr>\n",
       "    <tr>\n",
       "      <th>85246</th>\n",
       "      <td>0</td>\n",
       "      <td>1</td>\n",
       "      <td>0.811691</td>\n",
       "      <td>can two black people have a white baby ?</td>\n",
       "    </tr>\n",
       "    <tr>\n",
       "      <th>111308</th>\n",
       "      <td>1</td>\n",
       "      <td>0</td>\n",
       "      <td>0.012530</td>\n",
       "      <td>what products can make the most money for agents now ?</td>\n",
       "    </tr>\n",
       "    <tr>\n",
       "      <th>235103</th>\n",
       "      <td>0</td>\n",
       "      <td>1</td>\n",
       "      <td>0.729320</td>\n",
       "      <td>how do muslims feel about knowing that the ones that defend them in the western world are the that most differs from them ideologically ?</td>\n",
       "    </tr>\n",
       "    <tr>\n",
       "      <th>101297</th>\n",
       "      <td>1</td>\n",
       "      <td>0</td>\n",
       "      <td>0.277380</td>\n",
       "      <td>should amy pascal and avi drop dead for ruining spider - man so badly ?</td>\n",
       "    </tr>\n",
       "  </tbody>\n",
       "</table>\n",
       "</div>"
      ],
      "text/plain": [
       "        target  prediction  pred_val  \\\n",
       "185741  1       0           0.331036   \n",
       "90486   0       1           0.578600   \n",
       "143618  0       1           0.674987   \n",
       "59502   1       0           0.047500   \n",
       "201966  1       0           0.246436   \n",
       "85411   0       1           0.804730   \n",
       "85246   0       1           0.811691   \n",
       "111308  1       0           0.012530   \n",
       "235103  0       1           0.729320   \n",
       "101297  1       0           0.277380   \n",
       "\n",
       "                                                                                                                            question_text_rebuilt  \n",
       "185741  how different would metrics regarding us quality of life be if hispanic and african americans were excluded from the calculations ?        \n",
       "90486   will hindus ever have a country of their own official \" hindu \" country ?                                                                  \n",
       "143618  are there a lot of closeted gays in the bronx ?                                                                                            \n",
       "59502   what is the function of charcoal mask blackhead remover mask ?                                                                             \n",
       "201966  was the supposed prophet muhammad the first harvey weinstein in history ?                                                                  \n",
       "85411   what is the difference between a slut & a bitch ?                                                                                          \n",
       "85246   can two black people have a white baby ?                                                                                                   \n",
       "111308  what products can make the most money for agents now ?                                                                                     \n",
       "235103  how do muslims feel about knowing that the ones that defend them in the western world are the that most differs from them ideologically ?  \n",
       "101297  should amy pascal and avi drop dead for ruining spider - man so badly ?                                                                    "
      ]
     },
     "execution_count": 235,
     "metadata": {},
     "output_type": "execute_result"
    }
   ],
   "source": [
    "prediction_df[prediction_df[\"prediction\"] != prediction_df[\"target\"]].sample(10)"
   ]
  },
  {
   "cell_type": "code",
   "execution_count": 236,
   "metadata": {},
   "outputs": [],
   "source": [
    "misclassified_df = prediction_df[prediction_df[\"prediction\"] != prediction_df[\"target\"]]"
   ]
  },
  {
   "cell_type": "code",
   "execution_count": 237,
   "metadata": {},
   "outputs": [
    {
     "data": {
      "text/html": [
       "<div>\n",
       "<style scoped>\n",
       "    .dataframe tbody tr th:only-of-type {\n",
       "        vertical-align: middle;\n",
       "    }\n",
       "\n",
       "    .dataframe tbody tr th {\n",
       "        vertical-align: top;\n",
       "    }\n",
       "\n",
       "    .dataframe thead th {\n",
       "        text-align: right;\n",
       "    }\n",
       "</style>\n",
       "<table border=\"1\" class=\"dataframe\">\n",
       "  <thead>\n",
       "    <tr style=\"text-align: right;\">\n",
       "      <th></th>\n",
       "      <th>target</th>\n",
       "      <th>prediction</th>\n",
       "      <th>pred_val</th>\n",
       "      <th>question_text_rebuilt</th>\n",
       "    </tr>\n",
       "  </thead>\n",
       "  <tbody>\n",
       "    <tr>\n",
       "      <th>56946</th>\n",
       "      <td>1</td>\n",
       "      <td>0</td>\n",
       "      <td>0.0102</td>\n",
       "      <td>what are the most profitable businesses for villages ?</td>\n",
       "    </tr>\n",
       "  </tbody>\n",
       "</table>\n",
       "</div>"
      ],
      "text/plain": [
       "       target  prediction  pred_val  \\\n",
       "56946  1       0           0.0102     \n",
       "\n",
       "                                        question_text_rebuilt  \n",
       "56946  what are the most profitable businesses for villages ?  "
      ]
     },
     "execution_count": 237,
     "metadata": {},
     "output_type": "execute_result"
    }
   ],
   "source": [
    "misclassified_df[misclassified_df[\"pred_val\"] == misclassified_df[\"pred_val\"].min()]"
   ]
  },
  {
   "cell_type": "code",
   "execution_count": 238,
   "metadata": {},
   "outputs": [
    {
     "data": {
      "text/html": [
       "<div>\n",
       "<style scoped>\n",
       "    .dataframe tbody tr th:only-of-type {\n",
       "        vertical-align: middle;\n",
       "    }\n",
       "\n",
       "    .dataframe tbody tr th {\n",
       "        vertical-align: top;\n",
       "    }\n",
       "\n",
       "    .dataframe thead th {\n",
       "        text-align: right;\n",
       "    }\n",
       "</style>\n",
       "<table border=\"1\" class=\"dataframe\">\n",
       "  <thead>\n",
       "    <tr style=\"text-align: right;\">\n",
       "      <th></th>\n",
       "      <th>target</th>\n",
       "      <th>prediction</th>\n",
       "      <th>pred_val</th>\n",
       "      <th>question_text_rebuilt</th>\n",
       "    </tr>\n",
       "  </thead>\n",
       "  <tbody>\n",
       "    <tr>\n",
       "      <th>227861</th>\n",
       "      <td>0</td>\n",
       "      <td>1</td>\n",
       "      <td>0.98188</td>\n",
       "      <td>did eunuchs \" become \" gay by being castrated ?</td>\n",
       "    </tr>\n",
       "  </tbody>\n",
       "</table>\n",
       "</div>"
      ],
      "text/plain": [
       "        target  prediction  pred_val  \\\n",
       "227861  0       1           0.98188    \n",
       "\n",
       "                                  question_text_rebuilt  \n",
       "227861  did eunuchs \" become \" gay by being castrated ?  "
      ]
     },
     "execution_count": 238,
     "metadata": {},
     "output_type": "execute_result"
    }
   ],
   "source": [
    "misclassified_df[misclassified_df[\"pred_val\"] == misclassified_df[\"pred_val\"].max()]"
   ]
  },
  {
   "cell_type": "code",
   "execution_count": 240,
   "metadata": {},
   "outputs": [
    {
     "data": {
      "image/png": "[encoded data removed]",
      "text/plain": [
       "<Figure size 720x720 with 1 Axes>"
      ]
     },
     "metadata": {},
     "output_type": "display_data"
    }
   ],
   "source": [
    "ax = misclassified_df[\"pred_val\"].hist(figsize=(10, 10), bins=100, range=(0, 0.99))\n",
    "ax.set_title('Misclassified validations')\n",
    "ax.set_xlabel('Prediction score')\n",
    "ax.set_ylabel('Frequency')\n",
    "plt.show()"
   ]
  },
  {
   "cell_type": "code",
   "execution_count": 241,
   "metadata": {},
   "outputs": [
    {
     "name": "stdout",
     "output_type": "stream",
     "text": [
      "0.5091663\n"
     ]
    }
   ],
   "source": [
    "misclassifed_mean = misclassified_df[\"pred_val\"].mean()\n",
    "print(misclassifed_mean)"
   ]
  },
  {
   "cell_type": "code",
   "execution_count": 242,
   "metadata": {},
   "outputs": [
    {
     "name": "stdout",
     "output_type": "stream",
     "text": [
      "0.23220365\n"
     ]
    }
   ],
   "source": [
    "misclassifed_std = misclassified_df[\"pred_val\"].std()\n",
    "print(misclassifed_std)"
   ]
  },
  {
   "cell_type": "code",
   "execution_count": 254,
   "metadata": {},
   "outputs": [],
   "source": [
    "false_positive = misclassified_df[misclassified_df[\"prediction\"] == 1]\n",
    "false_positive_extreme = false_positive[false_positive[\"pred_val\"] >= misclassifed_mean + misclassifed_std]\n",
    "\n",
    "false_negative = misclassified_df[misclassified_df[\"prediction\"] == 0]\n",
    "false_negative_extreme = false_negative[false_negative[\"pred_val\"] <= misclassifed_mean - misclassifed_std]"
   ]
  },
  {
   "cell_type": "code",
   "execution_count": 257,
   "metadata": {},
   "outputs": [
    {
     "data": {
      "text/html": [
       "<div>\n",
       "<style scoped>\n",
       "    .dataframe tbody tr th:only-of-type {\n",
       "        vertical-align: middle;\n",
       "    }\n",
       "\n",
       "    .dataframe tbody tr th {\n",
       "        vertical-align: top;\n",
       "    }\n",
       "\n",
       "    .dataframe thead th {\n",
       "        text-align: right;\n",
       "    }\n",
       "</style>\n",
       "<table border=\"1\" class=\"dataframe\">\n",
       "  <thead>\n",
       "    <tr style=\"text-align: right;\">\n",
       "      <th></th>\n",
       "      <th>target</th>\n",
       "      <th>prediction</th>\n",
       "      <th>pred_val</th>\n",
       "      <th>question_text_rebuilt</th>\n",
       "    </tr>\n",
       "  </thead>\n",
       "  <tbody>\n",
       "    <tr>\n",
       "      <th>41469</th>\n",
       "      <td>0</td>\n",
       "      <td>1</td>\n",
       "      <td>0.927667</td>\n",
       "      <td>why do some liberals ignore israelites ' sufferings and struggles for a free , democratic and independent israel ? how can they support those cruel islamists ?</td>\n",
       "    </tr>\n",
       "    <tr>\n",
       "      <th>224583</th>\n",
       "      <td>0</td>\n",
       "      <td>1</td>\n",
       "      <td>0.741720</td>\n",
       "      <td>do koreans use water to clean their bottom ? do they have bidet in toilet as muslim countries do or clean with toilet paper only ?</td>\n",
       "    </tr>\n",
       "    <tr>\n",
       "      <th>189608</th>\n",
       "      <td>0</td>\n",
       "      <td>1</td>\n",
       "      <td>0.750678</td>\n",
       "      <td>are the evangelicals in the usa racist , fascist or what ? and what is their relationship with gun lobby group ?</td>\n",
       "    </tr>\n",
       "    <tr>\n",
       "      <th>23054</th>\n",
       "      <td>0</td>\n",
       "      <td>1</td>\n",
       "      <td>0.974254</td>\n",
       "      <td>in this enlightened nation people believe sex offenders should be castrated , do you ? how about other criminals , should they be mutilated ad well ?</td>\n",
       "    </tr>\n",
       "    <tr>\n",
       "      <th>103058</th>\n",
       "      <td>0</td>\n",
       "      <td>1</td>\n",
       "      <td>0.782203</td>\n",
       "      <td>how the hell do most asian women get those big , strong , and beautiful muscular legs without exercising ?</td>\n",
       "    </tr>\n",
       "    <tr>\n",
       "      <th>130397</th>\n",
       "      <td>0</td>\n",
       "      <td>1</td>\n",
       "      <td>0.758577</td>\n",
       "      <td>did prophet muhammad made any woman swallow his semen ?</td>\n",
       "    </tr>\n",
       "    <tr>\n",
       "      <th>244774</th>\n",
       "      <td>0</td>\n",
       "      <td>1</td>\n",
       "      <td>0.773128</td>\n",
       "      <td>why do half of americans believe trump colluded with russia and half believe he was framed by the department of justice ?</td>\n",
       "    </tr>\n",
       "    <tr>\n",
       "      <th>149802</th>\n",
       "      <td>0</td>\n",
       "      <td>1</td>\n",
       "      <td>0.934981</td>\n",
       "      <td>why do black people in general face more racism than white people based on skin color ?</td>\n",
       "    </tr>\n",
       "    <tr>\n",
       "      <th>234506</th>\n",
       "      <td>0</td>\n",
       "      <td>1</td>\n",
       "      <td>0.767865</td>\n",
       "      <td>why should young south africans stay in the country ? considering the countries recent junk status .</td>\n",
       "    </tr>\n",
       "    <tr>\n",
       "      <th>102520</th>\n",
       "      <td>0</td>\n",
       "      <td>1</td>\n",
       "      <td>0.808862</td>\n",
       "      <td>why do not chinese officials suffer from incompetence despite the fact that china has a \" repressive \" system ?</td>\n",
       "    </tr>\n",
       "  </tbody>\n",
       "</table>\n",
       "</div>"
      ],
      "text/plain": [
       "        target  prediction  pred_val  \\\n",
       "41469   0       1           0.927667   \n",
       "224583  0       1           0.741720   \n",
       "189608  0       1           0.750678   \n",
       "23054   0       1           0.974254   \n",
       "103058  0       1           0.782203   \n",
       "130397  0       1           0.758577   \n",
       "244774  0       1           0.773128   \n",
       "149802  0       1           0.934981   \n",
       "234506  0       1           0.767865   \n",
       "102520  0       1           0.808862   \n",
       "\n",
       "                                                                                                                                                  question_text_rebuilt  \n",
       "41469   why do some liberals ignore israelites ' sufferings and struggles for a free , democratic and independent israel ? how can they support those cruel islamists ?  \n",
       "224583  do koreans use water to clean their bottom ? do they have bidet in toilet as muslim countries do or clean with toilet paper only ?                               \n",
       "189608  are the evangelicals in the usa racist , fascist or what ? and what is their relationship with gun lobby group ?                                                 \n",
       "23054   in this enlightened nation people believe sex offenders should be castrated , do you ? how about other criminals , should they be mutilated ad well ?            \n",
       "103058  how the hell do most asian women get those big , strong , and beautiful muscular legs without exercising ?                                                       \n",
       "130397  did prophet muhammad made any woman swallow his semen ?                                                                                                          \n",
       "244774  why do half of americans believe trump colluded with russia and half believe he was framed by the department of justice ?                                        \n",
       "149802  why do black people in general face more racism than white people based on skin color ?                                                                          \n",
       "234506  why should young south africans stay in the country ? considering the countries recent junk status .                                                             \n",
       "102520  why do not chinese officials suffer from incompetence despite the fact that china has a \" repressive \" system ?                                                  "
      ]
     },
     "execution_count": 257,
     "metadata": {},
     "output_type": "execute_result"
    }
   ],
   "source": [
    "false_positive_extreme.sample(10)"
   ]
  },
  {
   "cell_type": "code",
   "execution_count": 258,
   "metadata": {},
   "outputs": [
    {
     "data": {
      "text/html": [
       "<div>\n",
       "<style scoped>\n",
       "    .dataframe tbody tr th:only-of-type {\n",
       "        vertical-align: middle;\n",
       "    }\n",
       "\n",
       "    .dataframe tbody tr th {\n",
       "        vertical-align: top;\n",
       "    }\n",
       "\n",
       "    .dataframe thead th {\n",
       "        text-align: right;\n",
       "    }\n",
       "</style>\n",
       "<table border=\"1\" class=\"dataframe\">\n",
       "  <thead>\n",
       "    <tr style=\"text-align: right;\">\n",
       "      <th></th>\n",
       "      <th>target</th>\n",
       "      <th>prediction</th>\n",
       "      <th>pred_val</th>\n",
       "      <th>question_text_rebuilt</th>\n",
       "    </tr>\n",
       "  </thead>\n",
       "  <tbody>\n",
       "    <tr>\n",
       "      <th>258563</th>\n",
       "      <td>1</td>\n",
       "      <td>0</td>\n",
       "      <td>0.142188</td>\n",
       "      <td>do you listen to the lies of god ?</td>\n",
       "    </tr>\n",
       "    <tr>\n",
       "      <th>93293</th>\n",
       "      <td>1</td>\n",
       "      <td>0</td>\n",
       "      <td>0.056738</td>\n",
       "      <td>what are some good things done by isis ?</td>\n",
       "    </tr>\n",
       "    <tr>\n",
       "      <th>177430</th>\n",
       "      <td>1</td>\n",
       "      <td>0</td>\n",
       "      <td>0.233607</td>\n",
       "      <td>i live like i am homeless , yet i have 2 million dollars sitting in the bank and a condo paid for . i basically just wander around all day doing nothing . is not life great ?</td>\n",
       "    </tr>\n",
       "    <tr>\n",
       "      <th>184247</th>\n",
       "      <td>1</td>\n",
       "      <td>0</td>\n",
       "      <td>0.237611</td>\n",
       "      <td>how does being in the same building that someone died in make your gun intelligence immediately ?</td>\n",
       "    </tr>\n",
       "    <tr>\n",
       "      <th>226969</th>\n",
       "      <td>1</td>\n",
       "      <td>0</td>\n",
       "      <td>0.050864</td>\n",
       "      <td>is it possible to sue my parents for me ?</td>\n",
       "    </tr>\n",
       "    <tr>\n",
       "      <th>69961</th>\n",
       "      <td>1</td>\n",
       "      <td>0</td>\n",
       "      <td>0.142670</td>\n",
       "      <td>why do people try to save suicidal persons they dont even know ?</td>\n",
       "    </tr>\n",
       "    <tr>\n",
       "      <th>26676</th>\n",
       "      <td>1</td>\n",
       "      <td>0</td>\n",
       "      <td>0.094318</td>\n",
       "      <td>why is my urine yellow instead of the usual opaque red ?</td>\n",
       "    </tr>\n",
       "    <tr>\n",
       "      <th>183571</th>\n",
       "      <td>1</td>\n",
       "      <td>0</td>\n",
       "      <td>0.015124</td>\n",
       "      <td>who wants the best dissertation writing service in usa ?</td>\n",
       "    </tr>\n",
       "    <tr>\n",
       "      <th>126414</th>\n",
       "      <td>1</td>\n",
       "      <td>0</td>\n",
       "      <td>0.140942</td>\n",
       "      <td>what does your butt look like ?</td>\n",
       "    </tr>\n",
       "    <tr>\n",
       "      <th>127575</th>\n",
       "      <td>1</td>\n",
       "      <td>0</td>\n",
       "      <td>0.041702</td>\n",
       "      <td>can you get a speeding ticket for traveling faster than the speed of light ? what cop is going to catch you ?</td>\n",
       "    </tr>\n",
       "  </tbody>\n",
       "</table>\n",
       "</div>"
      ],
      "text/plain": [
       "        target  prediction  pred_val  \\\n",
       "258563  1       0           0.142188   \n",
       "93293   1       0           0.056738   \n",
       "177430  1       0           0.233607   \n",
       "184247  1       0           0.237611   \n",
       "226969  1       0           0.050864   \n",
       "69961   1       0           0.142670   \n",
       "26676   1       0           0.094318   \n",
       "183571  1       0           0.015124   \n",
       "126414  1       0           0.140942   \n",
       "127575  1       0           0.041702   \n",
       "\n",
       "                                                                                                                                                                 question_text_rebuilt  \n",
       "258563  do you listen to the lies of god ?                                                                                                                                              \n",
       "93293   what are some good things done by isis ?                                                                                                                                        \n",
       "177430  i live like i am homeless , yet i have 2 million dollars sitting in the bank and a condo paid for . i basically just wander around all day doing nothing . is not life great ?  \n",
       "184247  how does being in the same building that someone died in make your gun intelligence immediately ?                                                                               \n",
       "226969  is it possible to sue my parents for me ?                                                                                                                                       \n",
       "69961   why do people try to save suicidal persons they dont even know ?                                                                                                                \n",
       "26676   why is my urine yellow instead of the usual opaque red ?                                                                                                                        \n",
       "183571  who wants the best dissertation writing service in usa ?                                                                                                                        \n",
       "126414  what does your butt look like ?                                                                                                                                                 \n",
       "127575  can you get a speeding ticket for traveling faster than the speed of light ? what cop is going to catch you ?                                                                   "
      ]
     },
     "execution_count": 258,
     "metadata": {},
     "output_type": "execute_result"
    }
   ],
   "source": [
    "false_negative_extreme.sample(10)"
   ]
  },
  {
   "cell_type": "code",
   "execution_count": 265,
   "metadata": {},
   "outputs": [
    {
     "data": {
      "text/html": [
       "<div>\n",
       "<style scoped>\n",
       "    .dataframe tbody tr th:only-of-type {\n",
       "        vertical-align: middle;\n",
       "    }\n",
       "\n",
       "    .dataframe tbody tr th {\n",
       "        vertical-align: top;\n",
       "    }\n",
       "\n",
       "    .dataframe thead th {\n",
       "        text-align: right;\n",
       "    }\n",
       "</style>\n",
       "<table border=\"1\" class=\"dataframe\">\n",
       "  <thead>\n",
       "    <tr style=\"text-align: right;\">\n",
       "      <th></th>\n",
       "      <th>target</th>\n",
       "      <th>prediction</th>\n",
       "      <th>pred_val</th>\n",
       "      <th>question_text_rebuilt</th>\n",
       "    </tr>\n",
       "  </thead>\n",
       "  <tbody>\n",
       "    <tr>\n",
       "      <th>142346</th>\n",
       "      <td>0</td>\n",
       "      <td>1</td>\n",
       "      <td>0.668906</td>\n",
       "      <td>why does youtube allow hungarian dictatorship ' s fascist propaganda to be streamed as advert between every three or so videos ? is that legal ?</td>\n",
       "    </tr>\n",
       "    <tr>\n",
       "      <th>50541</th>\n",
       "      <td>0</td>\n",
       "      <td>1</td>\n",
       "      <td>0.683686</td>\n",
       "      <td>it has been brought to my notice that a lot of misinformation is being spread by the media in india . should there be a regulatory body to curb the reach of misinformation ? can such a body function while keeping the process democratic ?</td>\n",
       "    </tr>\n",
       "    <tr>\n",
       "      <th>233793</th>\n",
       "      <td>0</td>\n",
       "      <td>1</td>\n",
       "      <td>0.640572</td>\n",
       "      <td>how much do you agree with the statement of an atheist that missionaries , not aid money , are the solution to africa ' s biggest problem - the crushing of the people ' s mindset ?</td>\n",
       "    </tr>\n",
       "    <tr>\n",
       "      <th>73156</th>\n",
       "      <td>0</td>\n",
       "      <td>1</td>\n",
       "      <td>0.535842</td>\n",
       "      <td>what are current frauds that most indians are unaware of ?</td>\n",
       "    </tr>\n",
       "    <tr>\n",
       "      <th>194563</th>\n",
       "      <td>0</td>\n",
       "      <td>1</td>\n",
       "      <td>0.644689</td>\n",
       "      <td>is energy of indian youth being wasted in communal discussions around several fake news coming out of bjp it cells ?</td>\n",
       "    </tr>\n",
       "    <tr>\n",
       "      <th>83273</th>\n",
       "      <td>0</td>\n",
       "      <td>1</td>\n",
       "      <td>0.702371</td>\n",
       "      <td>what should my 18 years old friend should when her real father is sexually exploiting her and indirectly indicating her for sex . her own mother is not supporting her and ignoring daily exploitation ?</td>\n",
       "    </tr>\n",
       "    <tr>\n",
       "      <th>29493</th>\n",
       "      <td>0</td>\n",
       "      <td>1</td>\n",
       "      <td>0.716945</td>\n",
       "      <td>why does hillary clinton blame sexism and everything else except her own track record in politics for her constant presidential election loss ?</td>\n",
       "    </tr>\n",
       "    <tr>\n",
       "      <th>234885</th>\n",
       "      <td>0</td>\n",
       "      <td>1</td>\n",
       "      <td>0.608558</td>\n",
       "      <td>how can we rally together to encourage state to have an article 5 constitutional amendment to help undue 12 liberal damage ?</td>\n",
       "    </tr>\n",
       "    <tr>\n",
       "      <th>91744</th>\n",
       "      <td>0</td>\n",
       "      <td>1</td>\n",
       "      <td>0.582117</td>\n",
       "      <td>are indian malaysians in the current generation losing in touch with their culture ?</td>\n",
       "    </tr>\n",
       "    <tr>\n",
       "      <th>115419</th>\n",
       "      <td>0</td>\n",
       "      <td>1</td>\n",
       "      <td>0.516103</td>\n",
       "      <td>if eventually we will all die and our planet will be swallowed by the sun why do we allow petty differences to divide us ?</td>\n",
       "    </tr>\n",
       "  </tbody>\n",
       "</table>\n",
       "</div>"
      ],
      "text/plain": [
       "        target  prediction  pred_val  \\\n",
       "142346  0       1           0.668906   \n",
       "50541   0       1           0.683686   \n",
       "233793  0       1           0.640572   \n",
       "73156   0       1           0.535842   \n",
       "194563  0       1           0.644689   \n",
       "83273   0       1           0.702371   \n",
       "29493   0       1           0.716945   \n",
       "234885  0       1           0.608558   \n",
       "91744   0       1           0.582117   \n",
       "115419  0       1           0.516103   \n",
       "\n",
       "                                                                                                                                                                                                                                question_text_rebuilt  \n",
       "142346  why does youtube allow hungarian dictatorship ' s fascist propaganda to be streamed as advert between every three or so videos ? is that legal ?                                                                                               \n",
       "50541   it has been brought to my notice that a lot of misinformation is being spread by the media in india . should there be a regulatory body to curb the reach of misinformation ? can such a body function while keeping the process democratic ?  \n",
       "233793  how much do you agree with the statement of an atheist that missionaries , not aid money , are the solution to africa ' s biggest problem - the crushing of the people ' s mindset ?                                                           \n",
       "73156   what are current frauds that most indians are unaware of ?                                                                                                                                                                                     \n",
       "194563  is energy of indian youth being wasted in communal discussions around several fake news coming out of bjp it cells ?                                                                                                                           \n",
       "83273   what should my 18 years old friend should when her real father is sexually exploiting her and indirectly indicating her for sex . her own mother is not supporting her and ignoring daily exploitation ?                                       \n",
       "29493   why does hillary clinton blame sexism and everything else except her own track record in politics for her constant presidential election loss ?                                                                                                \n",
       "234885  how can we rally together to encourage state to have an article 5 constitutional amendment to help undue 12 liberal damage ?                                                                                                                   \n",
       "91744   are indian malaysians in the current generation losing in touch with their culture ?                                                                                                                                                           \n",
       "115419  if eventually we will all die and our planet will be swallowed by the sun why do we allow petty differences to divide us ?                                                                                                                     "
      ]
     },
     "execution_count": 265,
     "metadata": {},
     "output_type": "execute_result"
    }
   ],
   "source": [
    "false_positive[~false_positive.isin(false_positive_extreme).all(1)].sample(10)"
   ]
  },
  {
   "cell_type": "code",
   "execution_count": 266,
   "metadata": {},
   "outputs": [
    {
     "data": {
      "text/html": [
       "<div>\n",
       "<style scoped>\n",
       "    .dataframe tbody tr th:only-of-type {\n",
       "        vertical-align: middle;\n",
       "    }\n",
       "\n",
       "    .dataframe tbody tr th {\n",
       "        vertical-align: top;\n",
       "    }\n",
       "\n",
       "    .dataframe thead th {\n",
       "        text-align: right;\n",
       "    }\n",
       "</style>\n",
       "<table border=\"1\" class=\"dataframe\">\n",
       "  <thead>\n",
       "    <tr style=\"text-align: right;\">\n",
       "      <th></th>\n",
       "      <th>target</th>\n",
       "      <th>prediction</th>\n",
       "      <th>pred_val</th>\n",
       "      <th>question_text_rebuilt</th>\n",
       "    </tr>\n",
       "  </thead>\n",
       "  <tbody>\n",
       "    <tr>\n",
       "      <th>89924</th>\n",
       "      <td>1</td>\n",
       "      <td>0</td>\n",
       "      <td>0.490206</td>\n",
       "      <td>what 3 things does the flat earth debate and the official holocaust narrative have in common ?</td>\n",
       "    </tr>\n",
       "    <tr>\n",
       "      <th>219780</th>\n",
       "      <td>1</td>\n",
       "      <td>0</td>\n",
       "      <td>0.409271</td>\n",
       "      <td>if one can plea ' temporary insanity ' &amp; escape prosecution for crimes , can the law ' legally ' prosecute anyone who declared himself as a christian ?</td>\n",
       "    </tr>\n",
       "    <tr>\n",
       "      <th>257146</th>\n",
       "      <td>1</td>\n",
       "      <td>0</td>\n",
       "      <td>0.456394</td>\n",
       "      <td>why would a girl search on google for vaginas and not for penises ?</td>\n",
       "    </tr>\n",
       "    <tr>\n",
       "      <th>209300</th>\n",
       "      <td>1</td>\n",
       "      <td>0</td>\n",
       "      <td>0.350013</td>\n",
       "      <td>why is not hindi the national language of france ?</td>\n",
       "    </tr>\n",
       "    <tr>\n",
       "      <th>91121</th>\n",
       "      <td>1</td>\n",
       "      <td>0</td>\n",
       "      <td>0.455431</td>\n",
       "      <td>how did the jews recognize each other as jews ?</td>\n",
       "    </tr>\n",
       "    <tr>\n",
       "      <th>137122</th>\n",
       "      <td>1</td>\n",
       "      <td>0</td>\n",
       "      <td>0.431677</td>\n",
       "      <td>should british teach americans the sport of cricket ?</td>\n",
       "    </tr>\n",
       "    <tr>\n",
       "      <th>78053</th>\n",
       "      <td>1</td>\n",
       "      <td>0</td>\n",
       "      <td>0.301567</td>\n",
       "      <td>is a virgina a penis ?</td>\n",
       "    </tr>\n",
       "    <tr>\n",
       "      <th>32906</th>\n",
       "      <td>1</td>\n",
       "      <td>0</td>\n",
       "      <td>0.452100</td>\n",
       "      <td>i am a christian , but my best friend is gay . i do not like the idea of him burning in the deepest depths of hell for eternity . what can be done ?</td>\n",
       "    </tr>\n",
       "    <tr>\n",
       "      <th>17718</th>\n",
       "      <td>1</td>\n",
       "      <td>0</td>\n",
       "      <td>0.434658</td>\n",
       "      <td>is the doj ' s attempt to block information from congressman nunes evidence that the secret society exists ?</td>\n",
       "    </tr>\n",
       "    <tr>\n",
       "      <th>104064</th>\n",
       "      <td>1</td>\n",
       "      <td>0</td>\n",
       "      <td>0.363152</td>\n",
       "      <td>is criminology a topic worthy of study or just a mix of psychological outdated theories built into a course for employing lowly teachers in expensive and useless degrees ?</td>\n",
       "    </tr>\n",
       "  </tbody>\n",
       "</table>\n",
       "</div>"
      ],
      "text/plain": [
       "        target  prediction  pred_val  \\\n",
       "89924   1       0           0.490206   \n",
       "219780  1       0           0.409271   \n",
       "257146  1       0           0.456394   \n",
       "209300  1       0           0.350013   \n",
       "91121   1       0           0.455431   \n",
       "137122  1       0           0.431677   \n",
       "78053   1       0           0.301567   \n",
       "32906   1       0           0.452100   \n",
       "17718   1       0           0.434658   \n",
       "104064  1       0           0.363152   \n",
       "\n",
       "                                                                                                                                                              question_text_rebuilt  \n",
       "89924   what 3 things does the flat earth debate and the official holocaust narrative have in common ?                                                                               \n",
       "219780  if one can plea ' temporary insanity ' & escape prosecution for crimes , can the law ' legally ' prosecute anyone who declared himself as a christian ?                      \n",
       "257146  why would a girl search on google for vaginas and not for penises ?                                                                                                          \n",
       "209300  why is not hindi the national language of france ?                                                                                                                           \n",
       "91121   how did the jews recognize each other as jews ?                                                                                                                              \n",
       "137122  should british teach americans the sport of cricket ?                                                                                                                        \n",
       "78053   is a virgina a penis ?                                                                                                                                                       \n",
       "32906   i am a christian , but my best friend is gay . i do not like the idea of him burning in the deepest depths of hell for eternity . what can be done ?                         \n",
       "17718   is the doj ' s attempt to block information from congressman nunes evidence that the secret society exists ?                                                                 \n",
       "104064  is criminology a topic worthy of study or just a mix of psychological outdated theories built into a course for employing lowly teachers in expensive and useless degrees ?  "
      ]
     },
     "execution_count": 266,
     "metadata": {},
     "output_type": "execute_result"
    }
   ],
   "source": [
    "false_negative[~false_negative.isin(false_negative_extreme).all(1)].sample(10)"
   ]
  },
  {
   "cell_type": "code",
   "execution_count": null,
   "metadata": {},
   "outputs": [],
   "source": []
  }
 ],
 "metadata": {
  "accelerator": "GPU",
  "colab": {
   "collapsed_sections": [],
   "name": "capstone.ipynb",
   "provenance": [],
   "version": "0.3.2"
  },
  "kernelspec": {
   "display_name": "Python 3",
   "language": "python",
   "name": "python3"
  },
  "language_info": {
   "codemirror_mode": {
    "name": "ipython",
    "version": 3
   },
   "file_extension": ".py",
   "mimetype": "text/x-python",
   "name": "python",
   "nbconvert_exporter": "python",
   "pygments_lexer": "ipython3",
   "version": "3.5.3"
  }
 },
 "nbformat": 4,
 "nbformat_minor": 2
}
