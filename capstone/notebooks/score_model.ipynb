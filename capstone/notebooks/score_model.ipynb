{
 "cells": [
  {
   "cell_type": "code",
   "execution_count": 1,
   "metadata": {},
   "outputs": [
    {
     "name": "stdout",
     "output_type": "stream",
     "text": [
      "CPU times: user 36 ms, sys: 1.14 s, total: 1.17 s\n",
      "Wall time: 1.17 s\n"
     ]
    }
   ],
   "source": [
    "%%time\n",
    "\n",
    "import numpy as np\n",
    "import pandas as pd\n",
    "import pickle\n",
    "\n",
    "test_df = pd.read_pickle('test_df.pkl')\n",
    "\n",
    "X_train = np.load('X_train.npy')\n",
    "X_val = np.load('X_val.npy')\n",
    "X_test = np.load('X_test.npy')\n",
    "\n",
    "y_train = pd.read_pickle('y_train.pkl')\n",
    "y_val = pd.read_pickle('y_val.pkl')"
   ]
  },
  {
   "cell_type": "code",
   "execution_count": 2,
   "metadata": {},
   "outputs": [
    {
     "name": "stderr",
     "output_type": "stream",
     "text": [
      "Using TensorFlow backend.\n"
     ]
    }
   ],
   "source": [
    "from keras.models import load_model\n",
    "\n",
    "model = load_model('model.h5')\n",
    "model.load_weights('weights.h5')"
   ]
  },
  {
   "cell_type": "code",
   "execution_count": 3,
   "metadata": {},
   "outputs": [],
   "source": [
    "model.compile(loss='binary_crossentropy',\n",
    "              optimizer='adam',\n",
    "              metrics=['accuracy'])"
   ]
  },
  {
   "cell_type": "markdown",
   "metadata": {
    "colab_type": "text",
    "id": "NVFKqCPUtJcy"
   },
   "source": [
    "# Predict validation labels"
   ]
  },
  {
   "cell_type": "code",
   "execution_count": 4,
   "metadata": {},
   "outputs": [
    {
     "name": "stdout",
     "output_type": "stream",
     "text": [
      "261225/261225 [==============================] - 32s 121us/step\n",
      "CPU times: user 28.4 s, sys: 6.83 s, total: 35.2 s\n",
      "Wall time: 31.5 s\n"
     ]
    }
   ],
   "source": [
    "%%time\n",
    "\n",
    "pred_val = model.predict([X_val], batch_size=1024, verbose=1)"
   ]
  },
  {
   "cell_type": "markdown",
   "metadata": {
    "colab_type": "text",
    "id": "NVFKqCPUtJcy"
   },
   "source": [
    "# Find best threshold"
   ]
  },
  {
   "cell_type": "code",
   "execution_count": 5,
   "metadata": {},
   "outputs": [
    {
     "name": "stdout",
     "output_type": "stream",
     "text": [
      "best threshold is 0.3100 with F1 score: 0.6713\n"
     ]
    }
   ],
   "source": [
    "from sklearn.metrics import f1_score\n",
    "\n",
    "def bestThreshold(y_true,y_pred):\n",
    "    idx = 0\n",
    "    cur_f1 = 0\n",
    "    max_f1 = 0\n",
    "    thres = 0\n",
    "    for idx in np.arange(0.1, 0.501, 0.01):\n",
    "        cur_f1 = f1_score(y_true, np.array(y_pred)> idx)\n",
    "        if cur_f1 > max_f1:\n",
    "            max_f1 = cur_f1\n",
    "            thres = idx\n",
    "    print('best threshold is {:.4f} with F1 score: {:.4f}'.format(thres, max_f1))\n",
    "    return thres\n",
    "threshold = bestThreshold(y_val,pred_val)"
   ]
  },
  {
   "cell_type": "markdown",
   "metadata": {
    "colab_type": "text",
    "id": "NVFKqCPUtJcy"
   },
   "source": [
    "# Predict test labels"
   ]
  },
  {
   "cell_type": "code",
   "execution_count": 6,
   "metadata": {},
   "outputs": [
    {
     "name": "stdout",
     "output_type": "stream",
     "text": [
      "56370/56370 [==============================] - 6s 112us/step\n",
      "CPU times: user 5.76 s, sys: 1.28 s, total: 7.04 s\n",
      "Wall time: 6.3 s\n"
     ]
    }
   ],
   "source": [
    "%%time\n",
    "\n",
    "pred_test = model.predict([X_test], batch_size=1024, verbose=1)"
   ]
  },
  {
   "cell_type": "markdown",
   "metadata": {
    "colab_type": "text",
    "id": "NVFKqCPUtJcy"
   },
   "source": [
    "# Prepare submission"
   ]
  },
  {
   "cell_type": "code",
   "execution_count": 7,
   "metadata": {},
   "outputs": [],
   "source": [
    "pred_df = pd.DataFrame({\"qid\":test_df[\"qid\"].values, \"question_text\":test_df[\"question_text\"].values})\n",
    "pred_df['prediction'] = (pred_test > threshold).astype(int)"
   ]
  },
  {
   "cell_type": "markdown",
   "metadata": {
    "colab_type": "text",
    "id": "w7oagxHHofxb"
   },
   "source": [
    "# Analyze train and test data"
   ]
  },
  {
   "cell_type": "code",
   "execution_count": 8,
   "metadata": {},
   "outputs": [],
   "source": [
    "pd.options.display.max_columns = None\n",
    "pd.options.display.max_rows = None\n",
    "pd.options.display.max_colwidth = -1"
   ]
  },
  {
   "cell_type": "code",
   "execution_count": 9,
   "metadata": {
    "colab": {
     "base_uri": "https://localhost:8080/",
     "height": 393
    },
    "colab_type": "code",
    "id": "h0aRi6Toaq8j",
    "outputId": "5d5c6246-c8c3-49e0-e8b7-58850a83f62f"
   },
   "outputs": [
    {
     "name": "stdout",
     "output_type": "stream",
     "text": [
      "Sample insincere questions (predicted)\n"
     ]
    },
    {
     "data": {
      "text/html": [
       "<div>\n",
       "<style scoped>\n",
       "    .dataframe tbody tr th:only-of-type {\n",
       "        vertical-align: middle;\n",
       "    }\n",
       "\n",
       "    .dataframe tbody tr th {\n",
       "        vertical-align: top;\n",
       "    }\n",
       "\n",
       "    .dataframe thead th {\n",
       "        text-align: right;\n",
       "    }\n",
       "</style>\n",
       "<table border=\"1\" class=\"dataframe\">\n",
       "  <thead>\n",
       "    <tr style=\"text-align: right;\">\n",
       "      <th></th>\n",
       "      <th>qid</th>\n",
       "      <th>question_text</th>\n",
       "      <th>prediction</th>\n",
       "    </tr>\n",
       "  </thead>\n",
       "  <tbody>\n",
       "    <tr>\n",
       "      <th>40712</th>\n",
       "      <td>b7fa8035853f137af2c0</td>\n",
       "      <td>Isn't it likely that Trump will do something with horrible consequences as a distraction if Mueller starts getting too close?</td>\n",
       "      <td>1</td>\n",
       "    </tr>\n",
       "    <tr>\n",
       "      <th>44223</th>\n",
       "      <td>c835db1cd1983406723e</td>\n",
       "      <td>Why do people throughout history misinterpret their Holy Books and are lead to religious hate and wars?</td>\n",
       "      <td>1</td>\n",
       "    </tr>\n",
       "    <tr>\n",
       "      <th>11387</th>\n",
       "      <td>33d79802c92a819675d2</td>\n",
       "      <td>Why do mormons think their church is the only way to get to heaven when common intelligence tells us there is no god, no heaven and no hell?</td>\n",
       "      <td>1</td>\n",
       "    </tr>\n",
       "    <tr>\n",
       "      <th>1991</th>\n",
       "      <td>09316d9ebd493451db82</td>\n",
       "      <td>I can not stand white women does that make me racist?</td>\n",
       "      <td>1</td>\n",
       "    </tr>\n",
       "    <tr>\n",
       "      <th>39</th>\n",
       "      <td>003069ba70645b15c3ba</td>\n",
       "      <td>Why don't India start a War with Pakistan ? They Kill our Soldiers.</td>\n",
       "      <td>1</td>\n",
       "    </tr>\n",
       "    <tr>\n",
       "      <th>37685</th>\n",
       "      <td>aa0fea0bb59410c82638</td>\n",
       "      <td>Why do most Bengali Hindus (including Brahmins) support Mamata Banerjee (TMC) and hate the BJP? Is this because BJP wants to destroy the glorious Bengali culture?</td>\n",
       "      <td>1</td>\n",
       "    </tr>\n",
       "    <tr>\n",
       "      <th>11279</th>\n",
       "      <td>336df06f09f4906990b1</td>\n",
       "      <td>Why does rape and go up in countries that are accepting more Muslim immigrants?</td>\n",
       "      <td>1</td>\n",
       "    </tr>\n",
       "    <tr>\n",
       "      <th>39039</th>\n",
       "      <td>b0324bd8dc0a4165f578</td>\n",
       "      <td>What’s the difference between an American and a racist white person?</td>\n",
       "      <td>1</td>\n",
       "    </tr>\n",
       "    <tr>\n",
       "      <th>13462</th>\n",
       "      <td>3ce4d1e1b7b22ad0fb69</td>\n",
       "      <td>Is it petty to kick my teenage daughter's boyfriend out the house, but let my son invite his boyfriend over for dinner? Is it me or does anyone else prefer gay male dating their son than a straight male dating their daughter?</td>\n",
       "      <td>1</td>\n",
       "    </tr>\n",
       "    <tr>\n",
       "      <th>27879</th>\n",
       "      <td>7dc1ab9c9094fd21f771</td>\n",
       "      <td>Jallikattu and why Tamilians should not seek Independence from India?</td>\n",
       "      <td>1</td>\n",
       "    </tr>\n",
       "  </tbody>\n",
       "</table>\n",
       "</div>"
      ],
      "text/plain": [
       "                        qid  \\\n",
       "40712  b7fa8035853f137af2c0   \n",
       "44223  c835db1cd1983406723e   \n",
       "11387  33d79802c92a819675d2   \n",
       "1991   09316d9ebd493451db82   \n",
       "39     003069ba70645b15c3ba   \n",
       "37685  aa0fea0bb59410c82638   \n",
       "11279  336df06f09f4906990b1   \n",
       "39039  b0324bd8dc0a4165f578   \n",
       "13462  3ce4d1e1b7b22ad0fb69   \n",
       "27879  7dc1ab9c9094fd21f771   \n",
       "\n",
       "                                                                                                                                                                                                                           question_text  \\\n",
       "40712  Isn't it likely that Trump will do something with horrible consequences as a distraction if Mueller starts getting too close?                                                                                                       \n",
       "44223  Why do people throughout history misinterpret their Holy Books and are lead to religious hate and wars?                                                                                                                             \n",
       "11387  Why do mormons think their church is the only way to get to heaven when common intelligence tells us there is no god, no heaven and no hell?                                                                                        \n",
       "1991   I can not stand white women does that make me racist?                                                                                                                                                                               \n",
       "39     Why don't India start a War with Pakistan ? They Kill our Soldiers.                                                                                                                                                                 \n",
       "37685  Why do most Bengali Hindus (including Brahmins) support Mamata Banerjee (TMC) and hate the BJP? Is this because BJP wants to destroy the glorious Bengali culture?                                                                  \n",
       "11279  Why does rape and go up in countries that are accepting more Muslim immigrants?                                                                                                                                                     \n",
       "39039  What’s the difference between an American and a racist white person?                                                                                                                                                                \n",
       "13462  Is it petty to kick my teenage daughter's boyfriend out the house, but let my son invite his boyfriend over for dinner? Is it me or does anyone else prefer gay male dating their son than a straight male dating their daughter?   \n",
       "27879  Jallikattu and why Tamilians should not seek Independence from India?                                                                                                                                                               \n",
       "\n",
       "       prediction  \n",
       "40712  1           \n",
       "44223  1           \n",
       "11387  1           \n",
       "1991   1           \n",
       "39     1           \n",
       "37685  1           \n",
       "11279  1           \n",
       "39039  1           \n",
       "13462  1           \n",
       "27879  1           "
      ]
     },
     "execution_count": 9,
     "metadata": {},
     "output_type": "execute_result"
    }
   ],
   "source": [
    "print(\"Sample insincere questions (predicted)\")\n",
    "pred_df.loc[pred_df['prediction'] == 1].sample(10)"
   ]
  },
  {
   "cell_type": "code",
   "execution_count": 10,
   "metadata": {
    "colab": {
     "base_uri": "https://localhost:8080/",
     "height": 376
    },
    "colab_type": "code",
    "id": "n_mslOIdaj8G",
    "outputId": "c0c9da0b-96d8-436f-fe37-28a2da1d6b69"
   },
   "outputs": [
    {
     "name": "stdout",
     "output_type": "stream",
     "text": [
      "Sample sincere questions (predicted)\n"
     ]
    },
    {
     "data": {
      "text/html": [
       "<div>\n",
       "<style scoped>\n",
       "    .dataframe tbody tr th:only-of-type {\n",
       "        vertical-align: middle;\n",
       "    }\n",
       "\n",
       "    .dataframe tbody tr th {\n",
       "        vertical-align: top;\n",
       "    }\n",
       "\n",
       "    .dataframe thead th {\n",
       "        text-align: right;\n",
       "    }\n",
       "</style>\n",
       "<table border=\"1\" class=\"dataframe\">\n",
       "  <thead>\n",
       "    <tr style=\"text-align: right;\">\n",
       "      <th></th>\n",
       "      <th>qid</th>\n",
       "      <th>question_text</th>\n",
       "      <th>prediction</th>\n",
       "    </tr>\n",
       "  </thead>\n",
       "  <tbody>\n",
       "    <tr>\n",
       "      <th>48152</th>\n",
       "      <td>da10c033ce1b37a70057</td>\n",
       "      <td>Before jumping into HC Verma, should I use another book for class 11?</td>\n",
       "      <td>0</td>\n",
       "    </tr>\n",
       "    <tr>\n",
       "      <th>21250</th>\n",
       "      <td>6076ad117f8a220a1e6e</td>\n",
       "      <td>What are the risks associated with fixed deposits?</td>\n",
       "      <td>0</td>\n",
       "    </tr>\n",
       "    <tr>\n",
       "      <th>16650</th>\n",
       "      <td>4b5246be944279abff15</td>\n",
       "      <td>Has anyone got his/her profile accepted in upwork in 2017? Anyone from India got his/her profile accepted?</td>\n",
       "      <td>0</td>\n",
       "    </tr>\n",
       "    <tr>\n",
       "      <th>13868</th>\n",
       "      <td>3f0319a8307b05b6ed6a</td>\n",
       "      <td>What was a typical workout for you when you were training for the Olympics?</td>\n",
       "      <td>0</td>\n",
       "    </tr>\n",
       "    <tr>\n",
       "      <th>23059</th>\n",
       "      <td>683dcd1debd30ea91c63</td>\n",
       "      <td>Can I apply for Ireland student visa before 6months of course start?</td>\n",
       "      <td>0</td>\n",
       "    </tr>\n",
       "    <tr>\n",
       "      <th>13878</th>\n",
       "      <td>3f10bd80ddf46e175dff</td>\n",
       "      <td>One of my classmates who bullied me is an undercover agent. I am 100% confirm about this, it was crosschecked and I have evidence. How should I expose this information to hurt him the most professionally?</td>\n",
       "      <td>0</td>\n",
       "    </tr>\n",
       "    <tr>\n",
       "      <th>8104</th>\n",
       "      <td>25307509b3f3a66ae8ad</td>\n",
       "      <td>Have you ever seen your parents crying?</td>\n",
       "      <td>0</td>\n",
       "    </tr>\n",
       "    <tr>\n",
       "      <th>36476</th>\n",
       "      <td>a46c8a3bf3f161d5a2f3</td>\n",
       "      <td>What does the abbreviation I.M.H.O. stand for?</td>\n",
       "      <td>0</td>\n",
       "    </tr>\n",
       "    <tr>\n",
       "      <th>51337</th>\n",
       "      <td>e8b24e1184e9d992deba</td>\n",
       "      <td>An 8 year old kid just served me dinner in a restaurant, what do I do?</td>\n",
       "      <td>0</td>\n",
       "    </tr>\n",
       "    <tr>\n",
       "      <th>35797</th>\n",
       "      <td>a1429c928412d19eba54</td>\n",
       "      <td>How can I make homemade T-shirts?</td>\n",
       "      <td>0</td>\n",
       "    </tr>\n",
       "  </tbody>\n",
       "</table>\n",
       "</div>"
      ],
      "text/plain": [
       "                        qid  \\\n",
       "48152  da10c033ce1b37a70057   \n",
       "21250  6076ad117f8a220a1e6e   \n",
       "16650  4b5246be944279abff15   \n",
       "13868  3f0319a8307b05b6ed6a   \n",
       "23059  683dcd1debd30ea91c63   \n",
       "13878  3f10bd80ddf46e175dff   \n",
       "8104   25307509b3f3a66ae8ad   \n",
       "36476  a46c8a3bf3f161d5a2f3   \n",
       "51337  e8b24e1184e9d992deba   \n",
       "35797  a1429c928412d19eba54   \n",
       "\n",
       "                                                                                                                                                                                                      question_text  \\\n",
       "48152  Before jumping into HC Verma, should I use another book for class 11?                                                                                                                                          \n",
       "21250  What are the risks associated with fixed deposits?                                                                                                                                                             \n",
       "16650  Has anyone got his/her profile accepted in upwork in 2017? Anyone from India got his/her profile accepted?                                                                                                     \n",
       "13868  What was a typical workout for you when you were training for the Olympics?                                                                                                                                    \n",
       "23059  Can I apply for Ireland student visa before 6months of course start?                                                                                                                                           \n",
       "13878  One of my classmates who bullied me is an undercover agent. I am 100% confirm about this, it was crosschecked and I have evidence. How should I expose this information to hurt him the most professionally?   \n",
       "8104   Have you ever seen your parents crying?                                                                                                                                                                        \n",
       "36476  What does the abbreviation I.M.H.O. stand for?                                                                                                                                                                 \n",
       "51337  An 8 year old kid just served me dinner in a restaurant, what do I do?                                                                                                                                         \n",
       "35797  How can I make homemade T-shirts?                                                                                                                                                                              \n",
       "\n",
       "       prediction  \n",
       "48152  0           \n",
       "21250  0           \n",
       "16650  0           \n",
       "13868  0           \n",
       "23059  0           \n",
       "13878  0           \n",
       "8104   0           \n",
       "36476  0           \n",
       "51337  0           \n",
       "35797  0           "
      ]
     },
     "execution_count": 10,
     "metadata": {},
     "output_type": "execute_result"
    }
   ],
   "source": [
    "print(\"Sample sincere questions (predicted)\")\n",
    "pred_df.loc[pred_df['prediction'] == 0].sample(10)"
   ]
  }
 ],
 "metadata": {
  "kernelspec": {
   "display_name": "Python 3",
   "language": "python",
   "name": "python3"
  },
  "language_info": {
   "codemirror_mode": {
    "name": "ipython",
    "version": 3
   },
   "file_extension": ".py",
   "mimetype": "text/x-python",
   "name": "python",
   "nbconvert_exporter": "python",
   "pygments_lexer": "ipython3",
   "version": "3.5.3"
  }
 },
 "nbformat": 4,
 "nbformat_minor": 2
}
